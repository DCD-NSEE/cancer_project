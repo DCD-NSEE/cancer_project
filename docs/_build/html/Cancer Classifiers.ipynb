{
 "cells": [
  {
   "cell_type": "markdown",
   "metadata": {
    "id": "rUYZlEolM5b3"
   },
   "source": [
    "# **Classification - ob**"
   ]
  },
  {
   "cell_type": "markdown",
   "metadata": {
    "id": "amQWqtfGD-OP"
   },
   "source": [
    "In this section, two machine learning models will be used to classify the `ob` column, Random Forest and XGBoost, for both datasets, São Paulo and other states.\n",
    "\n",
    "The label is 0 if the person is alive and 1 if he / she died."
   ]
  },
  {
   "cell_type": "markdown",
   "metadata": {
    "id": "ufK57I-jIvL5"
   },
   "source": [
    "## **Reading the data**"
   ]
  },
  {
   "cell_type": "markdown",
   "metadata": {
    "id": "HV0qHY3QGwnp"
   },
   "source": [
    "Reading the data from SP and other states.\n",
    "\n",
    "We can see that we still have some missing values in both datasets, but the column `DTRECIDIVA` will be dropped, as well the `IDADE` column, because the column `FAIXAETAR` will be used, both have information about the age of the patients. \n",
    "\n",
    "The columns `delta_t4`, `delta_t5` and `delta_t6`, can be used as a label in a future analysis, so they will not be as features of the created models."
   ]
  },
  {
   "cell_type": "code",
   "execution_count": null,
   "metadata": {
    "colab": {
     "base_uri": "https://localhost:8080/"
    },
    "executionInfo": {
     "elapsed": 12714,
     "status": "ok",
     "timestamp": 1620918372038,
     "user": {
      "displayName": "Lucas Buk Cardoso",
      "photoUrl": "",
      "userId": "13718893696373545505"
     },
     "user_tz": 180
    },
    "id": "lsbx5gAgKkIF",
    "outputId": "a3e2af1d-2838-4cee-99c2-9a436bbad877"
   },
   "outputs": [
    {
     "name": "stdout",
     "output_type": "stream",
     "text": [
      "(806402, 94)\n",
      "(62317, 94)\n"
     ]
    }
   ],
   "source": [
    "df_SP = read_csv('/content/drive/MyDrive/Trabalho/Cancer/Datasets/cancer_SP_labels.csv')\n",
    "df_fora = read_csv('/content/drive/MyDrive/Trabalho/Cancer/Datasets/cancer_foraSP_labels.csv')"
   ]
  },
  {
   "cell_type": "code",
   "execution_count": null,
   "metadata": {
    "colab": {
     "base_uri": "https://localhost:8080/"
    },
    "executionInfo": {
     "elapsed": 13968,
     "status": "ok",
     "timestamp": 1620918373312,
     "user": {
      "displayName": "Lucas Buk Cardoso",
      "photoUrl": "",
      "userId": "13718893696373545505"
     },
     "user_tz": 180
    },
    "id": "LvEbvxomNqAv",
    "outputId": "a0a8af55-2372-4701-b7e8-26e25ee0c23f"
   },
   "outputs": [
    {
     "data": {
      "text/plain": [
       "DTRECIDIVA    717377\n",
       "delta_t6      717377\n",
       "delta_t5      717377\n",
       "delta_t4      717377\n",
       "IDADE              1\n",
       "TRATAMENTO         0\n",
       "dtype: int64"
      ]
     },
     "execution_count": 153,
     "metadata": {
      "tags": []
     },
     "output_type": "execute_result"
    }
   ],
   "source": [
    "# SP\n",
    "df_SP.isna().sum().sort_values(ascending=False).head(6)"
   ]
  },
  {
   "cell_type": "code",
   "execution_count": null,
   "metadata": {
    "colab": {
     "base_uri": "https://localhost:8080/"
    },
    "executionInfo": {
     "elapsed": 13959,
     "status": "ok",
     "timestamp": 1620918373313,
     "user": {
      "displayName": "Lucas Buk Cardoso",
      "photoUrl": "",
      "userId": "13718893696373545505"
     },
     "user_tz": 180
    },
    "id": "MKFY2EPnN2fm",
    "outputId": "158bbdd3-1af5-4074-efb3-508ac9225a23"
   },
   "outputs": [
    {
     "data": {
      "text/plain": [
       "DTRECIDIVA    57799\n",
       "delta_t6      57799\n",
       "delta_t5      57799\n",
       "delta_t4      57799\n",
       "NAOTRAT           0\n",
       "LOCALTNM          0\n",
       "dtype: int64"
      ]
     },
     "execution_count": 154,
     "metadata": {
      "tags": []
     },
     "output_type": "execute_result"
    }
   ],
   "source": [
    "# Other states\n",
    "df_fora.isna().sum().sort_values(ascending=False).head(6)"
   ]
  },
  {
   "cell_type": "markdown",
   "metadata": {
    "id": "INARCD20JmAI"
   },
   "source": [
    "Here we have the correlations between the label and the other columns, the columns with higher correlations will not be used as features of the models, because they may have been used to create the label, such as the ``ULTINFO`` column, or they can be used as label for other machine learning models."
   ]
  },
  {
   "cell_type": "code",
   "execution_count": null,
   "metadata": {
    "colab": {
     "base_uri": "https://localhost:8080/"
    },
    "executionInfo": {
     "elapsed": 21994,
     "status": "ok",
     "timestamp": 1620918381359,
     "user": {
      "displayName": "Lucas Buk Cardoso",
      "photoUrl": "",
      "userId": "13718893696373545505"
     },
     "user_tz": 180
    },
    "id": "mgNF-cBRHn9V",
    "outputId": "4d5063ac-6293-4b95-8d44-041d61d28d61"
   },
   "outputs": [
    {
     "data": {
      "text/plain": [
       "ob              1.000000\n",
       "vivo_sem_rec    0.946549\n",
       "ob_sem_rec      0.870247\n",
       "ULTINFO         0.868236\n",
       "ano_ob          0.750408\n",
       "PERDASEG        0.378763\n",
       "ob_com_rec      0.319736\n",
       "ANODIAG         0.269601\n",
       "CIRURGIA        0.249248\n",
       "QUIMIO          0.244519\n",
       "delta_t7        0.216269\n",
       "delta_t8        0.216105\n",
       "delta_t9        0.212633\n",
       "CATEATEND       0.212081\n",
       "RECNENHUM       0.196724\n",
       "delta_t5        0.169360\n",
       "delta_t4        0.167767\n",
       "delta_t6        0.160751\n",
       "RECREGIO        0.141924\n",
       "IDADE           0.136383\n",
       "Name: ob, dtype: float64"
      ]
     },
     "execution_count": 155,
     "metadata": {
      "tags": []
     },
     "output_type": "execute_result"
    }
   ],
   "source": [
    "# SP\n",
    "corr_matrix = df_SP.corr()\n",
    "abs(corr_matrix['ob']).sort_values(ascending = False).head(20)"
   ]
  },
  {
   "cell_type": "code",
   "execution_count": null,
   "metadata": {
    "colab": {
     "base_uri": "https://localhost:8080/"
    },
    "executionInfo": {
     "elapsed": 22590,
     "status": "ok",
     "timestamp": 1620918381965,
     "user": {
      "displayName": "Lucas Buk Cardoso",
      "photoUrl": "",
      "userId": "13718893696373545505"
     },
     "user_tz": 180
    },
    "id": "OH29QOLhJZv8",
    "outputId": "456f1cc5-794a-4a49-bfeb-068ac284de77"
   },
   "outputs": [
    {
     "data": {
      "text/plain": [
       "ob              1.000000\n",
       "vivo_sem_rec    0.949190\n",
       "ob_sem_rec      0.928200\n",
       "ULTINFO         0.854305\n",
       "ano_ob          0.772548\n",
       "PERDASEG        0.359090\n",
       "ob_com_rec      0.275720\n",
       "CIRURGIA        0.257715\n",
       "QUIMIO          0.253681\n",
       "ANODIAG         0.252079\n",
       "CATEATEND       0.209850\n",
       "delta_t5        0.168003\n",
       "delta_t8        0.167875\n",
       "delta_t4        0.166380\n",
       "delta_t7        0.165922\n",
       "delta_t9        0.164855\n",
       "delta_t6        0.163108\n",
       "RECNENHUM       0.149262\n",
       "RADIO           0.139862\n",
       "GLEASON         0.104262\n",
       "Name: ob, dtype: float64"
      ]
     },
     "execution_count": 156,
     "metadata": {
      "tags": []
     },
     "output_type": "execute_result"
    }
   ],
   "source": [
    "# Other states\n",
    "corr_matrix = df_fora.corr()\n",
    "abs(corr_matrix['ob']).sort_values(ascending = False).head(20)"
   ]
  },
  {
   "cell_type": "markdown",
   "metadata": {
    "id": "5uhzTMhjLDk3"
   },
   "source": [
    "Here we have the number of examples for each category of the label, it is clear that there is an imbalance. We will need to fix this problem in the preprocessing step and in the models training."
   ]
  },
  {
   "cell_type": "code",
   "execution_count": null,
   "metadata": {
    "colab": {
     "base_uri": "https://localhost:8080/"
    },
    "executionInfo": {
     "elapsed": 22580,
     "status": "ok",
     "timestamp": 1620918381966,
     "user": {
      "displayName": "Lucas Buk Cardoso",
      "photoUrl": "",
      "userId": "13718893696373545505"
     },
     "user_tz": 180
    },
    "id": "zqL77aBDHStg",
    "outputId": "adc67646-0b07-4af2-f681-a69759966fc8"
   },
   "outputs": [
    {
     "data": {
      "text/plain": [
       "0    480724\n",
       "1    325678\n",
       "Name: ob, dtype: int64"
      ]
     },
     "execution_count": 157,
     "metadata": {
      "tags": []
     },
     "output_type": "execute_result"
    }
   ],
   "source": [
    "df_SP.ob.value_counts()"
   ]
  },
  {
   "cell_type": "code",
   "execution_count": null,
   "metadata": {
    "colab": {
     "base_uri": "https://localhost:8080/"
    },
    "executionInfo": {
     "elapsed": 22570,
     "status": "ok",
     "timestamp": 1620918381966,
     "user": {
      "displayName": "Lucas Buk Cardoso",
      "photoUrl": "",
      "userId": "13718893696373545505"
     },
     "user_tz": 180
    },
    "id": "Z0a3cgGnHKvr",
    "outputId": "af2336b9-ae05-48ec-f771-911812269240"
   },
   "outputs": [
    {
     "data": {
      "text/plain": [
       "0    44591\n",
       "1    17726\n",
       "Name: ob, dtype: int64"
      ]
     },
     "execution_count": 158,
     "metadata": {
      "tags": []
     },
     "output_type": "execute_result"
    }
   ],
   "source": [
    "df_fora.ob.value_counts()"
   ]
  },
  {
   "cell_type": "markdown",
   "metadata": {
    "id": "U2VTRFlOMKWo"
   },
   "source": [
    "A curiosity is in the column `PERDASEG`, because when its value is 1, in other words, treatment is not being followed up anymore, the label is always 0 (only one is different), indicating that the patient did not die. For this detail, this column will also not be used as a feature, because the model will be able to adjust many values of the label just using this column."
   ]
  },
  {
   "cell_type": "code",
   "execution_count": null,
   "metadata": {
    "colab": {
     "base_uri": "https://localhost:8080/"
    },
    "executionInfo": {
     "elapsed": 22560,
     "status": "ok",
     "timestamp": 1620918381966,
     "user": {
      "displayName": "Lucas Buk Cardoso",
      "photoUrl": "",
      "userId": "13718893696373545505"
     },
     "user_tz": 180
    },
    "id": "KxAhRyqrGve_",
    "outputId": "c218881e-9005-4bf1-c179-675d0d179241"
   },
   "outputs": [
    {
     "data": {
      "text/plain": [
       "0    140925\n",
       "1         1\n",
       "Name: ob, dtype: int64"
      ]
     },
     "execution_count": 159,
     "metadata": {
      "tags": []
     },
     "output_type": "execute_result"
    }
   ],
   "source": [
    "df_SP['ob'][df_SP.PERDASEG == 1].value_counts()"
   ]
  },
  {
   "cell_type": "code",
   "execution_count": null,
   "metadata": {
    "colab": {
     "base_uri": "https://localhost:8080/"
    },
    "executionInfo": {
     "elapsed": 22551,
     "status": "ok",
     "timestamp": 1620918381967,
     "user": {
      "displayName": "Lucas Buk Cardoso",
      "photoUrl": "",
      "userId": "13718893696373545505"
     },
     "user_tz": 180
    },
    "id": "JiwoZa54G_DH",
    "outputId": "75dfb4ab-12e8-4ee0-9b97-04ea70e8d16c"
   },
   "outputs": [
    {
     "data": {
      "text/plain": [
       "0    15263\n",
       "Name: ob, dtype: int64"
      ]
     },
     "execution_count": 160,
     "metadata": {
      "tags": []
     },
     "output_type": "execute_result"
    }
   ],
   "source": [
    "df_fora['ob'][df_fora.PERDASEG == 1].value_counts()"
   ]
  },
  {
   "cell_type": "markdown",
   "metadata": {
    "id": "ombZvBB4Z0XT"
   },
   "source": [
    "## **Training and testing split**"
   ]
  },
  {
   "cell_type": "markdown",
   "metadata": {
    "id": "e_PV9zA-O8Ww"
   },
   "source": [
    "Now we are going to divide the data into training and testing, to perform the training of the models and then their evaluation.\n",
    "\n",
    "First, it is necessary to define the columns that will be used as features and the label. For the features we will not use some columns of the data: `UFRESID`, because we already have the division between SP and other states in the two datasets. The date columns will also be removed, `DTCONSULT, DTDIAG, DTTRAT, DTRECIDIVA, DTULTINFO`, because we already have the difference in days in other columns. \n",
    "\n",
    "It was chosen to keep the column `FAIXAETAR`, so we will not use the `IDADE`. Regarding `PERDASEG`, it has already been discussed in the previous section.\n",
    "\n",
    "The columns `CONSDIAG, TRATCONS, DIAGTRAT` contain the same information as the `delta_t1, delta_t2, delta_t3`. Finally, the other columns contained in the list `list_drop` are possible labels, so they will not be used as features for machine learning models."
   ]
  },
  {
   "cell_type": "code",
   "execution_count": null,
   "metadata": {
    "id": "QKA7YdND0Ihh"
   },
   "outputs": [],
   "source": [
    "list_drop = ['UFRESID', 'DTCONSULT', 'DTDIAG', 'DTTRAT', 'DTRECIDIVA', 'DTULTINFO',\n",
    "             'IDADE', 'PERDASEG', 'CONSDIAG', 'TRATCONS', 'DIAGTRAT', 'delta_t4', \n",
    "             'delta_t5', 'delta_t6', 'delta_t7', 'delta_t8', 'delta_t9', 'ano_ob',\n",
    "             'ob_com_rec', 'ob_sem_rec', 'vivo_com_rec', 'vivo_sem_rec', 'ULTINFO']\n",
    "\n",
    "lb = 'ob'"
   ]
  },
  {
   "cell_type": "markdown",
   "metadata": {
    "id": "uBSKjC35RXeR"
   },
   "source": [
    "A function was created to perform the division of the data in training and testing, `get_train_test`. It is only necessary to pass the dataframe that will be used, a list with the columns that will not be used and a string with the name of the column that will be the label.\n",
    "\n",
    "> To see the complete function go to the [functions section](https://cancer-project.readthedocs.io/en/latest/Cancer%20Libraries%20and%20functions.html#Models)."
   ]
  },
  {
   "cell_type": "markdown",
   "metadata": {
    "id": "GX1_UcD0tCMz"
   },
   "source": [
    "**SP**"
   ]
  },
  {
   "cell_type": "code",
   "execution_count": null,
   "metadata": {
    "colab": {
     "base_uri": "https://localhost:8080/"
    },
    "executionInfo": {
     "elapsed": 3842,
     "status": "ok",
     "timestamp": 1620918436690,
     "user": {
      "displayName": "Lucas Buk Cardoso",
      "photoUrl": "",
      "userId": "13718893696373545505"
     },
     "user_tz": 180
    },
    "id": "NFD9UZfXywzp",
    "outputId": "78d4fbec-0bc0-4c5d-88ea-ea969656e925"
   },
   "outputs": [
    {
     "name": "stdout",
     "output_type": "stream",
     "text": [
      "X_train = (604801, 70), X_test = (201601, 70)\n",
      "y_train = (604801,), y_test = (201601,)\n"
     ]
    }
   ],
   "source": [
    "X_trainSP, X_testSP, y_trainSP, y_testSP = get_train_test(df_SP, list_drop, lb)"
   ]
  },
  {
   "cell_type": "markdown",
   "metadata": {
    "id": "NCbH-edHtFF7"
   },
   "source": [
    "**Other states**"
   ]
  },
  {
   "cell_type": "code",
   "execution_count": null,
   "metadata": {
    "colab": {
     "base_uri": "https://localhost:8080/"
    },
    "executionInfo": {
     "elapsed": 573,
     "status": "ok",
     "timestamp": 1620918440199,
     "user": {
      "displayName": "Lucas Buk Cardoso",
      "photoUrl": "",
      "userId": "13718893696373545505"
     },
     "user_tz": 180
    },
    "id": "RGlJvbId0pCX",
    "outputId": "20a89c86-ffde-4f3b-fca7-31f3ad365627"
   },
   "outputs": [
    {
     "name": "stdout",
     "output_type": "stream",
     "text": [
      "X_train = (46737, 70), X_test = (15580, 70)\n",
      "y_train = (46737,), y_test = (15580,)\n"
     ]
    }
   ],
   "source": [
    "X_trainFora, X_testFora, y_trainFora, y_testFora = get_train_test(df_fora, list_drop, lb)"
   ]
  },
  {
   "cell_type": "markdown",
   "metadata": {
    "id": "dK3aK7YPUrJ7"
   },
   "source": [
    "## **Encoder and normalization**"
   ]
  },
  {
   "cell_type": "markdown",
   "metadata": {
    "id": "uUPgSO48S-ms"
   },
   "source": [
    "After dividing the data into training and testing it is necessary to perform the preprocessing in the training data, for this a function was created, `train_preprocessing`, it returns the data encoded (columns that are strings) and normalized. Training data is required for the function.\n",
    "\n",
    "> See the complete function in the [functions section](https://cancer-project.readthedocs.io/en/latest/Cancer%20Libraries%20and%20functions.html#Models)."
   ]
  },
  {
   "cell_type": "markdown",
   "metadata": {
    "id": "yjofw76bTAto"
   },
   "source": [
    "**SP**"
   ]
  },
  {
   "cell_type": "code",
   "execution_count": null,
   "metadata": {
    "id": "de74G3zKGhZh"
   },
   "outputs": [],
   "source": [
    "X_trainSP_enc, enc_SP, norm_SP = train_preprocessing(X_trainSP, normalizer='StandardScaler')"
   ]
  },
  {
   "cell_type": "markdown",
   "metadata": {
    "id": "SjqdouLiTEUu"
   },
   "source": [
    "**Other states**"
   ]
  },
  {
   "cell_type": "code",
   "execution_count": null,
   "metadata": {
    "id": "gMkWWMDkTIt-"
   },
   "outputs": [],
   "source": [
    "X_trainFora_enc, enc_fora, norm_fora = train_preprocessing(X_trainFora, normalizer='StandardScaler')"
   ]
  },
  {
   "cell_type": "markdown",
   "metadata": {
    "id": "Sgs0DgsWVfmD"
   },
   "source": [
    "## **PCA**"
   ]
  },
  {
   "cell_type": "markdown",
   "metadata": {
    "id": "cOh3_dsHmaG-"
   },
   "source": [
    "Using the PCA, it is possible to reduce the dimensionality of the data, decreasing the number of features. As can be seen from the graphs below, with less features used in the models, smaller will be the representativeness of the total data.\n",
    "\n",
    "The preprocessing function of the training data already contains this possibility of using the PCA, just use the necessary parameters, see the complete function in the [functions section](https://cancer-project.readthedocs.io/en/latest/Cancer%20Libraries%20and%20functions.html#Models)."
   ]
  },
  {
   "cell_type": "markdown",
   "metadata": {
    "id": "sBIGRqLXCSnb"
   },
   "source": [
    "**SP**"
   ]
  },
  {
   "cell_type": "code",
   "execution_count": null,
   "metadata": {
    "id": "6SJHJJOk1s1t"
   },
   "outputs": [],
   "source": [
    "pca = PCA()\n",
    "principalComponents = pca.fit_transform(X_trainSP_enc)"
   ]
  },
  {
   "cell_type": "code",
   "execution_count": null,
   "metadata": {
    "colab": {
     "base_uri": "https://localhost:8080/",
     "height": 610
    },
    "executionInfo": {
     "elapsed": 1199,
     "status": "ok",
     "timestamp": 1620840312399,
     "user": {
      "displayName": "Lucas Buk Cardoso",
      "photoUrl": "",
      "userId": "13718893696373545505"
     },
     "user_tz": 180
    },
    "id": "QCUpY5jUjpOo",
    "outputId": "12db244e-9be7-40e2-beec-4f8f214a1e02"
   },
   "outputs": [
    {
     "data": {
      "image/png": "[encoded data removed]",
      "text/plain": [
       "<Figure size 1440x720 with 1 Axes>"
      ]
     },
     "metadata": {
      "needs_background": "light",
      "tags": []
     },
     "output_type": "display_data"
    }
   ],
   "source": [
    "plt.figure(figsize=(20,10))\n",
    "\n",
    "plt.bar(np.linspace(1, 70, 70), pca.explained_variance_ratio_, alpha=0.5, \n",
    "        align='center', label='Variance ratio')\n",
    "plt.step(np.linspace(1, 70, 70), np.cumsum(pca.explained_variance_ratio_), where='mid',\n",
    "         label='Sum of explained variance ratio')\n",
    "\n",
    "plt.ylabel('Explained variance', size=14)\n",
    "plt.xlabel('Number of principal components', size=14)\n",
    "plt.legend()\n",
    "\n",
    "plt.show()"
   ]
  },
  {
   "cell_type": "markdown",
   "metadata": {
    "id": "yC6sRNRhCWaS"
   },
   "source": [
    "**Other states**"
   ]
  },
  {
   "cell_type": "code",
   "execution_count": null,
   "metadata": {
    "id": "GSh7AozlCWaU"
   },
   "outputs": [],
   "source": [
    "pca = PCA()\n",
    "principalComponents = pca.fit_transform(X_trainFora_enc)"
   ]
  },
  {
   "cell_type": "code",
   "execution_count": null,
   "metadata": {
    "colab": {
     "base_uri": "https://localhost:8080/",
     "height": 610
    },
    "executionInfo": {
     "elapsed": 1264,
     "status": "ok",
     "timestamp": 1620840111764,
     "user": {
      "displayName": "Lucas Buk Cardoso",
      "photoUrl": "",
      "userId": "13718893696373545505"
     },
     "user_tz": 180
    },
    "id": "-zvQxIFXmUgs",
    "outputId": "589cbf78-f851-48ea-d225-64ca5dffbf22"
   },
   "outputs": [
    {
     "data": {
      "image/png": "[encoded data removed]",
      "text/plain": [
       "<Figure size 1440x720 with 1 Axes>"
      ]
     },
     "metadata": {
      "needs_background": "light",
      "tags": []
     },
     "output_type": "display_data"
    }
   ],
   "source": [
    "plt.figure(figsize=(20,10))\n",
    "\n",
    "plt.bar(np.linspace(1, 70, 70), pca.explained_variance_ratio_, alpha=0.5, \n",
    "        align='center', label='Variance ratio')\n",
    "plt.step(np.linspace(1, 70, 70), np.cumsum(pca.explained_variance_ratio_), where='mid',\n",
    "         label='Sum of explained variance ratio')\n",
    "\n",
    "plt.ylabel('Explained variance', size=14)\n",
    "plt.xlabel('Number of principal components', size=14)\n",
    "plt.legend()\n",
    "\n",
    "plt.show()"
   ]
  },
  {
   "cell_type": "markdown",
   "metadata": {
    "id": "QXtLVtVqaJ4R"
   },
   "source": [
    "## **Balancing the data**"
   ]
  },
  {
   "cell_type": "markdown",
   "metadata": {
    "id": "fQg_wHnZpXHJ"
   },
   "source": [
    "As mentioned earlier, we have unbalanced data, more labels with value 0 than with value 1. Therefore, we will use methods to balance the data.\n",
    "\n",
    "In the case of the SP dataset, an undersampling will be used, which balances the data according to the number of values of the smallest label, in case `ob = 1`. For the dataset with data from other states, the oversampling method will be used, which creates new data for the label with less values (`ob = 1`), after that we have both labels with the same number of examples."
   ]
  },
  {
   "cell_type": "markdown",
   "metadata": {
    "id": "NAa1mjE-TvKr"
   },
   "source": [
    "**SP**"
   ]
  },
  {
   "cell_type": "code",
   "execution_count": null,
   "metadata": {
    "colab": {
     "base_uri": "https://localhost:8080/"
    },
    "executionInfo": {
     "elapsed": 561,
     "status": "ok",
     "timestamp": 1620918465768,
     "user": {
      "displayName": "Lucas Buk Cardoso",
      "photoUrl": "",
      "userId": "13718893696373545505"
     },
     "user_tz": 180
    },
    "id": "adapted-ballot",
    "outputId": "ea15cfbe-e854-400a-adb0-0902630bcc8d"
   },
   "outputs": [
    {
     "data": {
      "text/plain": [
       "0    360572\n",
       "1    244229\n",
       "Name: ob, dtype: int64"
      ]
     },
     "execution_count": 166,
     "metadata": {
      "tags": []
     },
     "output_type": "execute_result"
    }
   ],
   "source": [
    "# Number of values for each label in the training data\n",
    "y_trainSP.value_counts()"
   ]
  },
  {
   "cell_type": "code",
   "execution_count": null,
   "metadata": {
    "id": "fioCaxQVgJz_"
   },
   "outputs": [],
   "source": [
    "rus = RandomUnderSampler(random_state=seed)\n",
    "X_SP, y_SP = rus.fit_sample(X_trainSP_enc, y_trainSP)"
   ]
  },
  {
   "cell_type": "code",
   "execution_count": null,
   "metadata": {
    "colab": {
     "base_uri": "https://localhost:8080/"
    },
    "executionInfo": {
     "elapsed": 814,
     "status": "ok",
     "timestamp": 1620918470984,
     "user": {
      "displayName": "Lucas Buk Cardoso",
      "photoUrl": "",
      "userId": "13718893696373545505"
     },
     "user_tz": 180
    },
    "id": "QsuM9A3rgZ9K",
    "outputId": "884dccae-a868-46b5-f9d3-604ec309aa73"
   },
   "outputs": [
    {
     "data": {
      "text/plain": [
       "(488458,)"
      ]
     },
     "execution_count": 168,
     "metadata": {
      "tags": []
     },
     "output_type": "execute_result"
    }
   ],
   "source": [
    "y_SP.shape"
   ]
  },
  {
   "cell_type": "markdown",
   "metadata": {
    "id": "mlw-AgwxU1QU"
   },
   "source": [
    "**Other states**"
   ]
  },
  {
   "cell_type": "code",
   "execution_count": null,
   "metadata": {
    "colab": {
     "base_uri": "https://localhost:8080/"
    },
    "executionInfo": {
     "elapsed": 570,
     "status": "ok",
     "timestamp": 1620918473415,
     "user": {
      "displayName": "Lucas Buk Cardoso",
      "photoUrl": "",
      "userId": "13718893696373545505"
     },
     "user_tz": 180
    },
    "id": "eV0T6fwxU1Qc",
    "outputId": "4af8436e-f883-4b50-dcfd-1b19e124446f"
   },
   "outputs": [
    {
     "data": {
      "text/plain": [
       "0    33365\n",
       "1    13372\n",
       "Name: ob, dtype: int64"
      ]
     },
     "execution_count": 169,
     "metadata": {
      "tags": []
     },
     "output_type": "execute_result"
    }
   ],
   "source": [
    "# Number of values for each label in the training data\n",
    "y_trainFora.value_counts()"
   ]
  },
  {
   "cell_type": "code",
   "execution_count": null,
   "metadata": {
    "id": "6C7fVaQ_U1Qi"
   },
   "outputs": [],
   "source": [
    "X_fora, y_fora = SMOTE(random_state=seed).fit_resample(X_trainFora_enc, y_trainFora)"
   ]
  },
  {
   "cell_type": "code",
   "execution_count": null,
   "metadata": {
    "colab": {
     "base_uri": "https://localhost:8080/"
    },
    "executionInfo": {
     "elapsed": 16817,
     "status": "ok",
     "timestamp": 1620918497432,
     "user": {
      "displayName": "Lucas Buk Cardoso",
      "photoUrl": "",
      "userId": "13718893696373545505"
     },
     "user_tz": 180
    },
    "id": "WrOpBURceNVk",
    "outputId": "c4a87d37-921d-4428-8c94-33f5bca1e266"
   },
   "outputs": [
    {
     "data": {
      "text/plain": [
       "(66730,)"
      ]
     },
     "execution_count": 171,
     "metadata": {
      "tags": []
     },
     "output_type": "execute_result"
    }
   ],
   "source": [
    "y_fora.shape"
   ]
  },
  {
   "cell_type": "markdown",
   "metadata": {
    "id": "7J57oHSLKQes"
   },
   "source": [
    "## **Training machine learning models**"
   ]
  },
  {
   "cell_type": "markdown",
   "metadata": {
    "id": "KwMzQtOwsLpM"
   },
   "source": [
    "After dividing the data into training and testing, using the encoder, normalizing the data and balancing, the data is ready to be used by the machine learning models."
   ]
  },
  {
   "cell_type": "markdown",
   "metadata": {
    "id": "6XtOaE7uW66Z"
   },
   "source": [
    "### **Random Forest**\n"
   ]
  },
  {
   "cell_type": "markdown",
   "metadata": {
    "id": "iPZBhYKVsTfU"
   },
   "source": [
    "The first model that will be tested is the Random Forest, for this test only the `random_state` will be used as a parameter, to obtain the same training values of the model every time it is runned.\n",
    "\n",
    "In the model for data outside the SP, the hyperparameter `class_weight` was also used, because even after balancing the data the model still has difficulty learning the class with fewer examples, this will be easier to understand when we check the confusion matrix for this model."
   ]
  },
  {
   "cell_type": "code",
   "execution_count": null,
   "metadata": {
    "colab": {
     "base_uri": "https://localhost:8080/"
    },
    "executionInfo": {
     "elapsed": 171759,
     "status": "ok",
     "timestamp": 1620918787314,
     "user": {
      "displayName": "Lucas Buk Cardoso",
      "photoUrl": "",
      "userId": "13718893696373545505"
     },
     "user_tz": 180
    },
    "id": "rTme1dQa0CIF",
    "outputId": "bc92c778-360b-4648-8626-964ce5008a66"
   },
   "outputs": [
    {
     "data": {
      "text/plain": [
       "RandomForestClassifier(bootstrap=True, ccp_alpha=0.0, class_weight=None,\n",
       "                       criterion='gini', max_depth=None, max_features='auto',\n",
       "                       max_leaf_nodes=None, max_samples=None,\n",
       "                       min_impurity_decrease=0.0, min_impurity_split=None,\n",
       "                       min_samples_leaf=1, min_samples_split=2,\n",
       "                       min_weight_fraction_leaf=0.0, n_estimators=100,\n",
       "                       n_jobs=None, oob_score=False, random_state=10, verbose=0,\n",
       "                       warm_start=False)"
      ]
     },
     "execution_count": 177,
     "metadata": {
      "tags": []
     },
     "output_type": "execute_result"
    }
   ],
   "source": [
    "# SP \n",
    "rf_sp = RandomForestClassifier(random_state=seed)\n",
    "rf_sp.fit(X_SP, y_SP)"
   ]
  },
  {
   "cell_type": "code",
   "execution_count": null,
   "metadata": {
    "colab": {
     "base_uri": "https://localhost:8080/"
    },
    "executionInfo": {
     "elapsed": 23154,
     "status": "ok",
     "timestamp": 1620918532976,
     "user": {
      "displayName": "Lucas Buk Cardoso",
      "photoUrl": "",
      "userId": "13718893696373545505"
     },
     "user_tz": 180
    },
    "id": "oejnxiZC9eKS",
    "outputId": "41a0efd7-1118-4124-95fb-dcfcb17fbbc7"
   },
   "outputs": [
    {
     "data": {
      "text/plain": [
       "RandomForestClassifier(bootstrap=True, ccp_alpha=0.0,\n",
       "                       class_weight={0: 10, 1: 0.0001}, criterion='gini',\n",
       "                       max_depth=None, max_features='auto', max_leaf_nodes=None,\n",
       "                       max_samples=None, min_impurity_decrease=0.0,\n",
       "                       min_impurity_split=None, min_samples_leaf=1,\n",
       "                       min_samples_split=2, min_weight_fraction_leaf=0.0,\n",
       "                       n_estimators=100, n_jobs=None, oob_score=False,\n",
       "                       random_state=10, verbose=0, warm_start=False)"
      ]
     },
     "execution_count": 172,
     "metadata": {
      "tags": []
     },
     "output_type": "execute_result"
    }
   ],
   "source": [
    "# Other states\n",
    "rf_fora = RandomForestClassifier(random_state=seed, class_weight={0: 10, 1: 0.0001})\n",
    "rf_fora.fit(X_fora, y_fora)"
   ]
  },
  {
   "cell_type": "markdown",
   "metadata": {
    "id": "buuhH7YtW-1g"
   },
   "source": [
    "### **XGBoost**\n"
   ]
  },
  {
   "cell_type": "markdown",
   "metadata": {
    "id": "DEqQ7dzauXbZ"
   },
   "source": [
    "The training of the XGBoost model follows the same pattern with `random_state`. A higher weight was also used for the class with fewer examples, using the hyperparameter `scale_pos_weight = 10`, for the model with data from outside SP.\n",
    "\n",
    "The hyperparameter `max_depth` was chosen as 15 because the default value for this hyperparameter is 3, a low value for the amount of data we have."
   ]
  },
  {
   "cell_type": "code",
   "execution_count": null,
   "metadata": {
    "colab": {
     "base_uri": "https://localhost:8080/"
    },
    "executionInfo": {
     "elapsed": 681588,
     "status": "ok",
     "timestamp": 1620919611574,
     "user": {
      "displayName": "Lucas Buk Cardoso",
      "photoUrl": "",
      "userId": "13718893696373545505"
     },
     "user_tz": 180
    },
    "id": "UuAnTmPn0CBQ",
    "outputId": "0db1de46-b0d1-45fe-fe25-99cfab586b1b"
   },
   "outputs": [
    {
     "data": {
      "text/plain": [
       "XGBClassifier(base_score=0.5, booster='gbtree', colsample_bylevel=1,\n",
       "              colsample_bynode=1, colsample_bytree=1, gamma=0,\n",
       "              learning_rate=0.1, max_delta_step=0, max_depth=15,\n",
       "              min_child_weight=1, missing=None, n_estimators=100, n_jobs=1,\n",
       "              nthread=None, objective='binary:logistic', random_state=10,\n",
       "              reg_alpha=0, reg_lambda=1, scale_pos_weight=1, seed=None,\n",
       "              silent=None, subsample=1, verbosity=1)"
      ]
     },
     "execution_count": 183,
     "metadata": {
      "tags": []
     },
     "output_type": "execute_result"
    }
   ],
   "source": [
    "# SP\n",
    "xgboost_sp = xgb.XGBClassifier(max_depth=15, random_state=seed)\n",
    "\n",
    "xgboost_sp.fit(X_SP, y_SP)"
   ]
  },
  {
   "cell_type": "code",
   "execution_count": null,
   "metadata": {
    "colab": {
     "base_uri": "https://localhost:8080/"
    },
    "executionInfo": {
     "elapsed": 78866,
     "status": "ok",
     "timestamp": 1620918905718,
     "user": {
      "displayName": "Lucas Buk Cardoso",
      "photoUrl": "",
      "userId": "13718893696373545505"
     },
     "user_tz": 180
    },
    "id": "avajLadrol8V",
    "outputId": "1af6e31f-4a0e-47a4-c150-042bc91ecf12"
   },
   "outputs": [
    {
     "data": {
      "text/plain": [
       "XGBClassifier(base_score=0.5, booster='gbtree', colsample_bylevel=1,\n",
       "              colsample_bynode=1, colsample_bytree=1, gamma=0,\n",
       "              learning_rate=0.1, max_delta_step=0, max_depth=15,\n",
       "              min_child_weight=1, missing=None, n_estimators=100, n_jobs=1,\n",
       "              nthread=None, objective='binary:logistic', random_state=10,\n",
       "              reg_alpha=0, reg_lambda=1, scale_pos_weight=10, seed=None,\n",
       "              silent=None, subsample=1, verbosity=1)"
      ]
     },
     "execution_count": 180,
     "metadata": {
      "tags": []
     },
     "output_type": "execute_result"
    }
   ],
   "source": [
    "# Other states \n",
    "xgboost_fora = xgb.XGBClassifier(max_depth=15, scale_pos_weight=10, \n",
    "                                 random_state=seed)\n",
    "\n",
    "xgboost_fora.fit(X_fora, y_fora)"
   ]
  },
  {
   "cell_type": "markdown",
   "metadata": {
    "id": "qUbaARtuNgMu"
   },
   "source": [
    "## **Models evaluation**"
   ]
  },
  {
   "cell_type": "markdown",
   "metadata": {
    "id": "ONLy_j5mwMKm"
   },
   "source": [
    "After training the models, we will use the confusion matrix to verify the performances, the features importances for each model will also be obtained."
   ]
  },
  {
   "cell_type": "markdown",
   "metadata": {
    "id": "FZQlzhLsX8TT"
   },
   "source": [
    "### **Preprocessing of testing data**\n"
   ]
  },
  {
   "cell_type": "markdown",
   "metadata": {
    "id": "ukogP-Y_wSzP"
   },
   "source": [
    "The preprocessing of the test data was also done using a function, `test_preprocessing`, passing the test data and the encoder and normalizer, trained to the training data, as parameters.\n",
    "\n",
    "> See the complete function in the [functions section](https://cancer-project.readthedocs.io/en/latest/Cancer%20Libraries%20and%20functions.html#Models)"
   ]
  },
  {
   "cell_type": "code",
   "execution_count": null,
   "metadata": {
    "id": "employed-projection"
   },
   "outputs": [],
   "source": [
    "# SP\n",
    "X_testSP_ = test_preprocessing(X_testSP, enc_SP, norm_SP)"
   ]
  },
  {
   "cell_type": "code",
   "execution_count": null,
   "metadata": {
    "id": "0Iv02Srz94Rj"
   },
   "outputs": [],
   "source": [
    "# Other states\n",
    "X_testFora_ = test_preprocessing(X_testFora, enc_fora, norm_fora)"
   ]
  },
  {
   "cell_type": "markdown",
   "metadata": {
    "id": "mL0RHXrohKzJ"
   },
   "source": [
    "### **Random Forest**\n"
   ]
  },
  {
   "cell_type": "markdown",
   "metadata": {
    "id": "-lHCLy-x0JM4"
   },
   "source": [
    "Below we have the confusion matrices for the Random Forest models, followed by the graph with the most important features for each model."
   ]
  },
  {
   "cell_type": "code",
   "execution_count": null,
   "metadata": {
    "colab": {
     "base_uri": "https://localhost:8080/",
     "height": 279
    },
    "executionInfo": {
     "elapsed": 14260,
     "status": "ok",
     "timestamp": 1620918805060,
     "user": {
      "displayName": "Lucas Buk Cardoso",
      "photoUrl": "",
      "userId": "13718893696373545505"
     },
     "user_tz": 180
    },
    "id": "lQWm0di1hKzr",
    "outputId": "b9064795-971e-47be-9ab7-2c6a49c5c106"
   },
   "outputs": [
    {
     "data": {
      "image/png": "[encoded data removed]",
      "text/plain": [
       "<Figure size 432x288 with 2 Axes>"
      ]
     },
     "metadata": {
      "needs_background": "light",
      "tags": []
     },
     "output_type": "display_data"
    }
   ],
   "source": [
    "plot_confusion_matrix(rf_sp, X_testSP_, y_testSP, cmap='Blues', normalize=\"true\", values_format='.2f')\n",
    "plt.show()"
   ]
  },
  {
   "cell_type": "markdown",
   "metadata": {
    "id": "lI_bZ-fz0wha"
   },
   "source": [
    "> The confusion matrix obtained for the Random Forest algorithm with the SP data shows a good performance of the model, because the model gets 81% correct for both classes, `ob = 0` and `ob = 1`.\n",
    "\n",
    "> It is also noticed that the balance of the data worked, because it was not necessary to use a higher weight for the class with fewer examples in the training of the model and we obtained a confusion matrix with the balanced main diagonal."
   ]
  },
  {
   "cell_type": "code",
   "execution_count": null,
   "metadata": {
    "colab": {
     "base_uri": "https://localhost:8080/",
     "height": 592
    },
    "executionInfo": {
     "elapsed": 1167,
     "status": "ok",
     "timestamp": 1620918809468,
     "user": {
      "displayName": "Lucas Buk Cardoso",
      "photoUrl": "",
      "userId": "13718893696373545505"
     },
     "user_tz": 180
    },
    "id": "ykwUueuSnVlW",
    "outputId": "b662e4f3-0c10-45a4-b914-d7a18043aef1"
   },
   "outputs": [
    {
     "data": {
      "image/png": "[encoded data removed]",
      "text/plain": [
       "<Figure size 720x720 with 1 Axes>"
      ]
     },
     "metadata": {
      "needs_background": "light",
      "tags": []
     },
     "output_type": "display_data"
    }
   ],
   "source": [
    "plot_feat_importances(rf_sp, X_testSP)"
   ]
  },
  {
   "cell_type": "markdown",
   "metadata": {
    "id": "FgcTs3y70xLt"
   },
   "source": [
    "> The four most important features in the model were `ANODIAG`, `TOPO`, `delta_t3` and `delta_t1`, the last two being the difference, in days, between treatment and consultation and between diagnosis and consultation, respectively."
   ]
  },
  {
   "cell_type": "code",
   "execution_count": null,
   "metadata": {
    "colab": {
     "base_uri": "https://localhost:8080/",
     "height": 279
    },
    "executionInfo": {
     "elapsed": 1669,
     "status": "ok",
     "timestamp": 1620918601797,
     "user": {
      "displayName": "Lucas Buk Cardoso",
      "photoUrl": "",
      "userId": "13718893696373545505"
     },
     "user_tz": 180
    },
    "id": "9vSCjcNJhKzv",
    "outputId": "759bbcdf-3614-417f-a8c1-26e0b74b3ad8"
   },
   "outputs": [
    {
     "data": {
      "image/png": "[encoded data removed]",
      "text/plain": [
       "<Figure size 432x288 with 2 Axes>"
      ]
     },
     "metadata": {
      "needs_background": "light",
      "tags": []
     },
     "output_type": "display_data"
    }
   ],
   "source": [
    "plot_confusion_matrix(rf_fora, X_testFora_, y_testFora, cmap='Blues', normalize=\"true\", values_format='.2f')\n",
    "plt.show()"
   ]
  },
  {
   "cell_type": "markdown",
   "metadata": {
    "id": "HLuijXBN0yIy"
   },
   "source": [
    "> The confusion matrix obtained for the Random Forest algorithm with the data from another states also shows a good performance of the model, but we have a unbalanced main diagonal in the confusion matrix, it means that we have to adjust the class weights in the model training, in order to obtain a balanced diagonal.\n"
   ]
  },
  {
   "cell_type": "code",
   "execution_count": null,
   "metadata": {
    "colab": {
     "base_uri": "https://localhost:8080/",
     "height": 592
    },
    "executionInfo": {
     "elapsed": 1140,
     "status": "ok",
     "timestamp": 1620918605427,
     "user": {
      "displayName": "Lucas Buk Cardoso",
      "photoUrl": "",
      "userId": "13718893696373545505"
     },
     "user_tz": 180
    },
    "id": "6MwJgjFGnW6a",
    "outputId": "538740bb-0d3a-4ccf-f3d2-45f4a31b7262"
   },
   "outputs": [
    {
     "data": {
      "image/png": "[encoded data removed]",
      "text/plain": [
       "<Figure size 720x720 with 1 Axes>"
      ]
     },
     "metadata": {
      "needs_background": "light",
      "tags": []
     },
     "output_type": "display_data"
    }
   ],
   "source": [
    "plot_feat_importances(rf_fora, X_testFora)"
   ]
  },
  {
   "cell_type": "markdown",
   "metadata": {
    "id": "i-mlrRXg0yrb"
   },
   "source": [
    "> The four most important features in the model were `ANODIAG`, `IBGE`, `delta_t1` and `delta_t3`, the last two being the difference, in days, between diagnosis and consultation and between treatment and consultation, respectively."
   ]
  },
  {
   "cell_type": "markdown",
   "metadata": {
    "id": "lNdcbiOxgUet"
   },
   "source": [
    "### **XGBoost**\n"
   ]
  },
  {
   "cell_type": "markdown",
   "metadata": {
    "id": "YXVjvUi50oRW"
   },
   "source": [
    "Below we have the confusion matrices for the XGBoost models, followed by the graph with the most important features for each model."
   ]
  },
  {
   "cell_type": "code",
   "execution_count": null,
   "metadata": {
    "colab": {
     "base_uri": "https://localhost:8080/",
     "height": 279
    },
    "executionInfo": {
     "elapsed": 8871,
     "status": "ok",
     "timestamp": 1620919648153,
     "user": {
      "displayName": "Lucas Buk Cardoso",
      "photoUrl": "",
      "userId": "13718893696373545505"
     },
     "user_tz": 180
    },
    "id": "tfFzLSr_2hnN",
    "outputId": "16883f4e-e91a-4ba2-b588-e819ed2f9003"
   },
   "outputs": [
    {
     "data": {
      "image/png": "[encoded data removed]",
      "text/plain": [
       "<Figure size 432x288 with 2 Axes>"
      ]
     },
     "metadata": {
      "needs_background": "light",
      "tags": []
     },
     "output_type": "display_data"
    }
   ],
   "source": [
    "plot_confusion_matrix(xgboost_sp, X_testSP_, y_testSP, cmap='Blues', normalize='true', values_format='.2f')\n",
    "plt.show()"
   ]
  },
  {
   "cell_type": "markdown",
   "metadata": {
    "id": "DWO11_6k5Iiq"
   },
   "source": [
    "> The confusion matrix obtained for the XGBoost algorithm with the SP data shows a good performance of the model, as well as the Random Forest model.\n",
    "\n",
    "> We also noticed that the balance of the data worked, because it was not necessary to use a higher weight for the class with fewer examples and we obtained a confusion matrix with the balanced main diagonal."
   ]
  },
  {
   "cell_type": "code",
   "execution_count": null,
   "metadata": {
    "colab": {
     "base_uri": "https://localhost:8080/",
     "height": 592
    },
    "executionInfo": {
     "elapsed": 3827,
     "status": "ok",
     "timestamp": 1620919655264,
     "user": {
      "displayName": "Lucas Buk Cardoso",
      "photoUrl": "",
      "userId": "13718893696373545505"
     },
     "user_tz": 180
    },
    "id": "gmCk_IC7ne7r",
    "outputId": "5ef8568b-1b93-4105-8440-d350013eca88"
   },
   "outputs": [
    {
     "data": {
      "image/png": "[encoded data removed]",
      "text/plain": [
       "<Figure size 720x720 with 1 Axes>"
      ]
     },
     "metadata": {
      "needs_background": "light",
      "tags": []
     },
     "output_type": "display_data"
    }
   ],
   "source": [
    "plot_feat_importances(xgboost_sp, X_testSP)"
   ]
  },
  {
   "cell_type": "markdown",
   "metadata": {
    "id": "-v7q3NOW0tRZ"
   },
   "source": [
    "> Here we noticed that the most used feature was `ECGRUP`, with a lot of advantage over the others."
   ]
  },
  {
   "cell_type": "code",
   "execution_count": null,
   "metadata": {
    "colab": {
     "base_uri": "https://localhost:8080/",
     "height": 280
    },
    "executionInfo": {
     "elapsed": 1383,
     "status": "ok",
     "timestamp": 1620918917127,
     "user": {
      "displayName": "Lucas Buk Cardoso",
      "photoUrl": "",
      "userId": "13718893696373545505"
     },
     "user_tz": 180
    },
    "id": "DmGhMjV7gUe_",
    "outputId": "3dce3814-d8dd-4786-aab4-70c6c83ad9a6"
   },
   "outputs": [
    {
     "data": {
      "image/png": "[encoded data removed]",
      "text/plain": [
       "<Figure size 432x288 with 2 Axes>"
      ]
     },
     "metadata": {
      "needs_background": "light",
      "tags": []
     },
     "output_type": "display_data"
    }
   ],
   "source": [
    "plot_confusion_matrix(xgboost_fora, X_testFora_, y_testFora, cmap='Blues', normalize=\"true\", values_format='.2f')\n",
    "plt.show()"
   ]
  },
  {
   "cell_type": "markdown",
   "metadata": {
    "id": "KWtKMbZC6npa"
   },
   "source": [
    "> The confusion matrix obtained for the XGBoost algorithm with the data from another states also shows a good performance of the model, as well as the Random Forest model.\n",
    "\n",
    "> We also obtained a confusion matrix with the balanced main diagonal, with 80% and 81%."
   ]
  },
  {
   "cell_type": "code",
   "execution_count": null,
   "metadata": {
    "colab": {
     "base_uri": "https://localhost:8080/",
     "height": 592
    },
    "executionInfo": {
     "elapsed": 1974,
     "status": "ok",
     "timestamp": 1620918921618,
     "user": {
      "displayName": "Lucas Buk Cardoso",
      "photoUrl": "",
      "userId": "13718893696373545505"
     },
     "user_tz": 180
    },
    "id": "irH2vKaInf8n",
    "outputId": "a0e1140e-ceca-4fb7-867a-6c03e49c5903"
   },
   "outputs": [
    {
     "data": {
      "image/png": "[encoded data removed]",
      "text/plain": [
       "<Figure size 720x720 with 1 Axes>"
      ]
     },
     "metadata": {
      "needs_background": "light",
      "tags": []
     },
     "output_type": "display_data"
    }
   ],
   "source": [
    "plot_feat_importances(xgboost_fora, X_testFora)"
   ]
  },
  {
   "cell_type": "markdown",
   "metadata": {
    "id": "XRM68jP_0u6t"
   },
   "source": [
    "> Again we noticed that the most used feature was `ECGRUP`, but not with a lot of advantage as seen in the previous analysis. The following most important features were `REC01`, `TOPOGRUP` and `CATEATEND`."
   ]
  },
  {
   "cell_type": "markdown",
   "metadata": {
    "id": "Wkxqo_7c7qNA"
   },
   "source": [
    "# **Classification - RECNENHUM**"
   ]
  },
  {
   "cell_type": "markdown",
   "metadata": {
    "id": "5C0otGa6EIpB"
   },
   "source": [
    "In this section, two machine learning models will be used to classify the `RECNENHUM` column, Random Forest and XGBoost.\n",
    "\n",
    "The label is 0 if there was a recurrence and 1 if there wasn't."
   ]
  },
  {
   "cell_type": "markdown",
   "metadata": {
    "id": "PFKZ0EQ0PJHt"
   },
   "source": [
    "## **Reading the data**"
   ]
  },
  {
   "cell_type": "markdown",
   "metadata": {
    "id": "NwUaVl6fHPXL"
   },
   "source": [
    "Reading the data from SP and other states.\n",
    "\n",
    "We can see that we still have some missing values in both datasets, but the column `DTRECIDIVA` will be dropped, as well the `IDADE` column, because the column `FAIXAETAR` will be used, both have information about the age of the patients. \n",
    "\n",
    "The columns `delta_t4`, `delta_t5` and `delta_t6`, can be used as a label in a future analysis, so they will not be as features of the created models."
   ]
  },
  {
   "cell_type": "code",
   "execution_count": null,
   "metadata": {
    "colab": {
     "base_uri": "https://localhost:8080/"
    },
    "executionInfo": {
     "elapsed": 12065,
     "status": "ok",
     "timestamp": 1620919718419,
     "user": {
      "displayName": "Lucas Buk Cardoso",
      "photoUrl": "",
      "userId": "13718893696373545505"
     },
     "user_tz": 180
    },
    "id": "vUDC6r5q7qNL",
    "outputId": "94f675a3-cfaa-4426-e3ed-31379e94672d"
   },
   "outputs": [
    {
     "name": "stdout",
     "output_type": "stream",
     "text": [
      "(806402, 94)\n",
      "(62317, 94)\n"
     ]
    }
   ],
   "source": [
    "df_SP = read_csv('/content/drive/MyDrive/Trabalho/Cancer/Datasets/cancer_SP_labels.csv')\n",
    "df_fora = read_csv('/content/drive/MyDrive/Trabalho/Cancer/Datasets/cancer_foraSP_labels.csv')"
   ]
  },
  {
   "cell_type": "code",
   "execution_count": null,
   "metadata": {
    "colab": {
     "base_uri": "https://localhost:8080/"
    },
    "executionInfo": {
     "elapsed": 13023,
     "status": "ok",
     "timestamp": 1620919719405,
     "user": {
      "displayName": "Lucas Buk Cardoso",
      "photoUrl": "",
      "userId": "13718893696373545505"
     },
     "user_tz": 180
    },
    "id": "7PnOJaGy7qNP",
    "outputId": "75e3f7ad-f35e-479f-b545-3d3d8e000102"
   },
   "outputs": [
    {
     "data": {
      "text/plain": [
       "DTRECIDIVA    717377\n",
       "delta_t6      717377\n",
       "delta_t5      717377\n",
       "delta_t4      717377\n",
       "IDADE              1\n",
       "TRATAMENTO         0\n",
       "dtype: int64"
      ]
     },
     "execution_count": 17,
     "metadata": {
      "tags": []
     },
     "output_type": "execute_result"
    }
   ],
   "source": [
    "# SP\n",
    "df_SP.isna().sum().sort_values(ascending=False).head(6)"
   ]
  },
  {
   "cell_type": "code",
   "execution_count": null,
   "metadata": {
    "colab": {
     "base_uri": "https://localhost:8080/"
    },
    "executionInfo": {
     "elapsed": 13014,
     "status": "ok",
     "timestamp": 1620919719406,
     "user": {
      "displayName": "Lucas Buk Cardoso",
      "photoUrl": "",
      "userId": "13718893696373545505"
     },
     "user_tz": 180
    },
    "id": "hR4hhQoC7qNS",
    "outputId": "25323c59-35f3-48a4-bb4f-5ab345b5ec7f"
   },
   "outputs": [
    {
     "data": {
      "text/plain": [
       "DTRECIDIVA    57799\n",
       "delta_t6      57799\n",
       "delta_t5      57799\n",
       "delta_t4      57799\n",
       "NAOTRAT           0\n",
       "LOCALTNM          0\n",
       "dtype: int64"
      ]
     },
     "execution_count": 18,
     "metadata": {
      "tags": []
     },
     "output_type": "execute_result"
    }
   ],
   "source": [
    "# Other states\n",
    "df_fora.isna().sum().sort_values(ascending=False).head(6)"
   ]
  },
  {
   "cell_type": "markdown",
   "metadata": {
    "id": "Vh8_X5EA8a02"
   },
   "source": [
    "Here we have the correlations between the label and the other columns, the columns with higher correlations will not be used as features of the models, because they may have been used to create the label, such as the ``ULTINFO`` column, or they can be used as label for other machine learning models."
   ]
  },
  {
   "cell_type": "code",
   "execution_count": null,
   "metadata": {
    "colab": {
     "base_uri": "https://localhost:8080/"
    },
    "executionInfo": {
     "elapsed": 20702,
     "status": "ok",
     "timestamp": 1620919727104,
     "user": {
      "displayName": "Lucas Buk Cardoso",
      "photoUrl": "",
      "userId": "13718893696373545505"
     },
     "user_tz": 180
    },
    "id": "IlIOMLab7qNQ",
    "outputId": "aeb254c1-41e5-470a-b39f-150acb80680e"
   },
   "outputs": [
    {
     "data": {
      "text/plain": [
       "RECNENHUM       1.000000\n",
       "ob_com_rec      0.829363\n",
       "RECLOCAL        0.679652\n",
       "RECREGIO        0.529338\n",
       "vivo_com_rec    0.522025\n",
       "RECDIST         0.497837\n",
       "vivo_sem_rec    0.364914\n",
       "ano_ob          0.242833\n",
       "ob_sem_rec      0.227291\n",
       "ob              0.196724\n",
       "QUIMIO          0.147652\n",
       "RADIO           0.085910\n",
       "ULTINFO         0.081964\n",
       "PERDASEG        0.070304\n",
       "delta_t8        0.064934\n",
       "delta_t7        0.063559\n",
       "delta_t9        0.063466\n",
       "IBGEATEN        0.062526\n",
       "delta_t5        0.058940\n",
       "delta_t4        0.055412\n",
       "Name: RECNENHUM, dtype: float64"
      ]
     },
     "execution_count": 19,
     "metadata": {
      "tags": []
     },
     "output_type": "execute_result"
    }
   ],
   "source": [
    "corr_matrix = df_SP.corr()\n",
    "abs(corr_matrix['RECNENHUM']).sort_values(ascending = False).head(20)"
   ]
  },
  {
   "cell_type": "code",
   "execution_count": null,
   "metadata": {
    "colab": {
     "base_uri": "https://localhost:8080/"
    },
    "executionInfo": {
     "elapsed": 21037,
     "status": "ok",
     "timestamp": 1620919727450,
     "user": {
      "displayName": "Lucas Buk Cardoso",
      "photoUrl": "",
      "userId": "13718893696373545505"
     },
     "user_tz": 180
    },
    "id": "dJXJQxEI7qNT",
    "outputId": "d7fdeec1-015a-4166-af74-f91b487718e7"
   },
   "outputs": [
    {
     "data": {
      "text/plain": [
       "RECNENHUM       1.000000\n",
       "ob_com_rec      0.749663\n",
       "RECLOCAL        0.695533\n",
       "vivo_com_rec    0.642191\n",
       "RECDIST         0.579667\n",
       "RECREGIO        0.430531\n",
       "vivo_sem_rec    0.349104\n",
       "ano_ob          0.217344\n",
       "ob              0.149262\n",
       "ob_sem_rec      0.135709\n",
       "QUIMIO          0.130924\n",
       "delta_t8        0.104972\n",
       "delta_t9        0.103801\n",
       "delta_t7        0.103667\n",
       "delta_t5        0.087167\n",
       "delta_t4        0.082168\n",
       "delta_t6        0.081259\n",
       "IDADE           0.074725\n",
       "RADIO           0.074704\n",
       "DIAGPREV        0.062018\n",
       "Name: RECNENHUM, dtype: float64"
      ]
     },
     "execution_count": 20,
     "metadata": {
      "tags": []
     },
     "output_type": "execute_result"
    }
   ],
   "source": [
    "corr_matrix = df_fora.corr()\n",
    "abs(corr_matrix['RECNENHUM']).sort_values(ascending = False).head(20)"
   ]
  },
  {
   "cell_type": "markdown",
   "metadata": {
    "id": "dGSQHq8dwP0i"
   },
   "source": [
    "Here we have the number of examples for each category of the label, it is clear that there is an imbalance, even higher than in the previous classification. We will need to fix this problem in the preprocessing step and in the models training."
   ]
  },
  {
   "cell_type": "code",
   "execution_count": null,
   "metadata": {
    "colab": {
     "base_uri": "https://localhost:8080/"
    },
    "executionInfo": {
     "elapsed": 21027,
     "status": "ok",
     "timestamp": 1620919727450,
     "user": {
      "displayName": "Lucas Buk Cardoso",
      "photoUrl": "",
      "userId": "13718893696373545505"
     },
     "user_tz": 180
    },
    "id": "fzsYwVJR7qNV",
    "outputId": "d7d9caa5-e06a-4093-cd37-3ab6ca213956"
   },
   "outputs": [
    {
     "data": {
      "text/plain": [
       "1    732633\n",
       "0     73769\n",
       "Name: RECNENHUM, dtype: int64"
      ]
     },
     "execution_count": 21,
     "metadata": {
      "tags": []
     },
     "output_type": "execute_result"
    }
   ],
   "source": [
    "df_SP.RECNENHUM.value_counts()"
   ]
  },
  {
   "cell_type": "code",
   "execution_count": null,
   "metadata": {
    "colab": {
     "base_uri": "https://localhost:8080/"
    },
    "executionInfo": {
     "elapsed": 21018,
     "status": "ok",
     "timestamp": 1620919727451,
     "user": {
      "displayName": "Lucas Buk Cardoso",
      "photoUrl": "",
      "userId": "13718893696373545505"
     },
     "user_tz": 180
    },
    "id": "X-zPGAlU7qNX",
    "outputId": "5dad361c-6698-4e6d-fb13-fc4e8eb6a8bd"
   },
   "outputs": [
    {
     "data": {
      "text/plain": [
       "1    59137\n",
       "0     3180\n",
       "Name: RECNENHUM, dtype: int64"
      ]
     },
     "execution_count": 22,
     "metadata": {
      "tags": []
     },
     "output_type": "execute_result"
    }
   ],
   "source": [
    "df_fora.RECNENHUM.value_counts()"
   ]
  },
  {
   "cell_type": "markdown",
   "metadata": {
    "id": "h3crI-qE7qNU"
   },
   "source": [
    "## **Training and testing split**"
   ]
  },
  {
   "cell_type": "markdown",
   "metadata": {
    "id": "BYhCj9MDvsmx"
   },
   "source": [
    "Now we are going to divide the data into training and testing, to perform the training of the models and then their evaluation.\n",
    "\n",
    "First, 400 thousand examples will be selected from label 1, of more than 700 thousand that we have available, and then this subset will be concatenated with the one containing label 0. Thus, oversampling and training of the models will take less time."
   ]
  },
  {
   "cell_type": "code",
   "execution_count": null,
   "metadata": {
    "colab": {
     "base_uri": "https://localhost:8080/"
    },
    "executionInfo": {
     "elapsed": 4382,
     "status": "ok",
     "timestamp": 1620919741680,
     "user": {
      "displayName": "Lucas Buk Cardoso",
      "photoUrl": "",
      "userId": "13718893696373545505"
     },
     "user_tz": 180
    },
    "id": "gtib0sBC7hoJ",
    "outputId": "5d2733a8-db76-4707-90c7-765c3a0fdbb7"
   },
   "outputs": [
    {
     "data": {
      "text/plain": [
       "1    400000\n",
       "0     73769\n",
       "Name: RECNENHUM, dtype: int64"
      ]
     },
     "execution_count": 23,
     "metadata": {
      "tags": []
     },
     "output_type": "execute_result"
    }
   ],
   "source": [
    "n_samples = 400000\n",
    "df_SP_rec = df_SP[df_SP.RECNENHUM == 1].sample(n_samples, random_state=seed).sort_index()\n",
    "df_SP_sem_rec = df_SP[df_SP.RECNENHUM == 0]\n",
    "df_SP_menor = pd.concat([df_SP_rec, df_SP_sem_rec]).sort_index()\n",
    "df_SP_menor.RECNENHUM.value_counts()"
   ]
  },
  {
   "cell_type": "markdown",
   "metadata": {
    "id": "MAXkKpp7w8uK"
   },
   "source": [
    "To define the columns that will be used as features and the label, the process will be similar to the one used previously. \n",
    "\n",
    "For the features we will not use some columns of the data: `UFRESID`, because we already have the division between SP and other states in the two datasets. The date columns will also be removed, `DTCONSULT, DTDIAG, DTTRAT, DTRECIDIVA, DTULTINFO`, because we already have the difference in days in other columns. \n",
    "\n",
    "It was chosen to keep the column `FAIXAETAR`, so we will not use the `IDADE`. Regarding `PERDASEG`, it has already been discussed in the previous section.\n",
    "\n",
    "The columns `CONSDIAG, TRATCONS, DIAGTRAT` contain the same information as the `delta_t1, delta_t2, delta_t3`. As the label is related to the patients' recurrence, the information related to this will be removed from the features, `RECLOCAL, RECREGIO, RECDIST, REC01, REC02, REC03, REC04`.\n",
    "\n",
    "Finally, the other columns contained in the list `list_drop` are possible labels, so they will not be used as features for machine learning models."
   ]
  },
  {
   "cell_type": "code",
   "execution_count": null,
   "metadata": {
    "id": "sotFg93x7qNY"
   },
   "outputs": [],
   "source": [
    "list_drop = ['UFRESID', 'DTCONSULT', 'DTDIAG', 'DTTRAT', 'DTRECIDIVA', 'DTULTINFO',\n",
    "             'IDADE', 'PERDASEG', 'CONSDIAG', 'TRATCONS', 'DIAGTRAT', 'RECLOCAL',\n",
    "             'RECREGIO', 'RECDIST', 'REC01', 'REC02', 'REC03', 'REC04', 'delta_t4',\n",
    "             'delta_t5', 'delta_t6', 'delta_t7', 'delta_t8', 'delta_t9', 'ob', 'ano_ob', \n",
    "             'ob_com_rec', 'ob_sem_rec', 'vivo_com_rec', 'vivo_sem_rec', 'ULTINFO']\n",
    "\n",
    "label = 'RECNENHUM'"
   ]
  },
  {
   "cell_type": "markdown",
   "metadata": {
    "id": "Bsgt25I3wrLH"
   },
   "source": [
    "A function was created to perform the division of the data in training and testing, `get_train_test`. It is only necessary to pass the dataframe that will be used, a list with the columns that will not be used and a string with the name of the column that will be the label.\n",
    "\n",
    "> To see the complete function go to the [functions section](https://cancer-project.readthedocs.io/en/latest/Cancer%20Libraries%20and%20functions.html#Models)."
   ]
  },
  {
   "cell_type": "markdown",
   "metadata": {
    "id": "wbuF9SH37qNb"
   },
   "source": [
    "**SP**"
   ]
  },
  {
   "cell_type": "code",
   "execution_count": null,
   "metadata": {
    "colab": {
     "base_uri": "https://localhost:8080/"
    },
    "executionInfo": {
     "elapsed": 1567,
     "status": "ok",
     "timestamp": 1620919748098,
     "user": {
      "displayName": "Lucas Buk Cardoso",
      "photoUrl": "",
      "userId": "13718893696373545505"
     },
     "user_tz": 180
    },
    "id": "P_77e-nPxR25",
    "outputId": "76fe184c-cd9f-40e3-fb44-c3591ca2df8f"
   },
   "outputs": [
    {
     "name": "stdout",
     "output_type": "stream",
     "text": [
      "X_train = (355326, 62), X_test = (118443, 62)\n",
      "y_train = (355326,), y_test = (118443,)\n"
     ]
    }
   ],
   "source": [
    "X_trainSP, X_testSP, y_trainSP, y_testSP = get_train_test(df_SP_menor, list_drop, label)"
   ]
  },
  {
   "cell_type": "markdown",
   "metadata": {
    "id": "9T68gmjp7qNh"
   },
   "source": [
    "**Other states**"
   ]
  },
  {
   "cell_type": "code",
   "execution_count": null,
   "metadata": {
    "colab": {
     "base_uri": "https://localhost:8080/"
    },
    "executionInfo": {
     "elapsed": 596,
     "status": "ok",
     "timestamp": 1620919749810,
     "user": {
      "displayName": "Lucas Buk Cardoso",
      "photoUrl": "",
      "userId": "13718893696373545505"
     },
     "user_tz": 180
    },
    "id": "ZxMIzZRN7qNh",
    "outputId": "a2fc7851-4c22-4998-dffb-972b4f9347a1"
   },
   "outputs": [
    {
     "name": "stdout",
     "output_type": "stream",
     "text": [
      "X_train = (46737, 62), X_test = (15580, 62)\n",
      "y_train = (46737,), y_test = (15580,)\n"
     ]
    }
   ],
   "source": [
    "X_trainFora, X_testFora, y_trainFora, y_testFora = get_train_test(df_fora, list_drop, label)"
   ]
  },
  {
   "cell_type": "markdown",
   "metadata": {
    "id": "FlRLT85q7qNj"
   },
   "source": [
    "## **Encoder and normalization**"
   ]
  },
  {
   "cell_type": "markdown",
   "metadata": {
    "id": "al6OOKj43qCI"
   },
   "source": [
    "After dividing the data into training and testing it is necessary to preprocess the training data, for this a function was created, `train_preprocessing`, it returns the data encoded (columns that are strings) and normalized. Training data is required for the function.\n",
    "\n",
    "> See the complete function in the [functions section](https://cancer-project.readthedocs.io/en/latest/Cancer%20Libraries%20and%20functions.html#Models)."
   ]
  },
  {
   "cell_type": "markdown",
   "metadata": {
    "id": "Ha-NXjbx7qNk"
   },
   "source": [
    "**SP**"
   ]
  },
  {
   "cell_type": "code",
   "execution_count": null,
   "metadata": {
    "id": "ouO3pZJM7qNl"
   },
   "outputs": [],
   "source": [
    "X_trainSP_enc, enc_SP, norm_SP = train_preprocessing(X_trainSP, normalizer='StandardScaler')"
   ]
  },
  {
   "cell_type": "markdown",
   "metadata": {
    "id": "Wllz1Cw77qNl"
   },
   "source": [
    "**Other states**"
   ]
  },
  {
   "cell_type": "code",
   "execution_count": null,
   "metadata": {
    "id": "ujsDviwV7qNm"
   },
   "outputs": [],
   "source": [
    "X_trainFora_enc, enc_fora, norm_fora = train_preprocessing(X_trainFora, normalizer='StandardScaler')"
   ]
  },
  {
   "cell_type": "markdown",
   "metadata": {
    "id": "3nMd35c_7qNm"
   },
   "source": [
    "## **PCA**"
   ]
  },
  {
   "cell_type": "markdown",
   "metadata": {
    "id": "7eA0VVyS0Z7h"
   },
   "source": [
    "Using the PCA, it is possible to reduce the dimensionality of the data, decreasing the number of features. As can be seen from the graphs below, with less features used in the models, smaller will be representativeness of the total data.\n",
    "\n",
    "The preprocessing function of the training data already contains this possibility of using the PCA, just use the necessary parameters, see the complete function in the [functions section](https://cancer-project.readthedocs.io/en/latest/Cancer%20Libraries%20and%20functions.html#Models)."
   ]
  },
  {
   "cell_type": "markdown",
   "metadata": {
    "id": "apioyQbt7qNn"
   },
   "source": [
    "**SP**"
   ]
  },
  {
   "cell_type": "code",
   "execution_count": null,
   "metadata": {
    "id": "cTQRKIsq1-gs"
   },
   "outputs": [],
   "source": [
    "pca = PCA()\n",
    "principalComponents = pca.fit_transform(X_trainSP_enc)"
   ]
  },
  {
   "cell_type": "code",
   "execution_count": null,
   "metadata": {
    "colab": {
     "base_uri": "https://localhost:8080/",
     "height": 610
    },
    "executionInfo": {
     "elapsed": 999,
     "status": "ok",
     "timestamp": 1620911631809,
     "user": {
      "displayName": "Lucas Buk Cardoso",
      "photoUrl": "",
      "userId": "13718893696373545505"
     },
     "user_tz": 180
    },
    "id": "rUjdXm1317Dq",
    "outputId": "c91bd1fa-e97d-4482-9411-e7f3dd4c2779"
   },
   "outputs": [
    {
     "data": {
      "image/png": "[encoded data removed]",
      "text/plain": [
       "<Figure size 1440x720 with 1 Axes>"
      ]
     },
     "metadata": {
      "needs_background": "light",
      "tags": []
     },
     "output_type": "display_data"
    }
   ],
   "source": [
    "plt.figure(figsize=(20,10))\n",
    "\n",
    "plt.bar(np.linspace(1, X_trainSP_enc.shape[1], X_trainSP_enc.shape[1]), \n",
    "        pca.explained_variance_ratio_, alpha=0.5, align='center', label='Variance ratio')\n",
    "\n",
    "plt.step(np.linspace(1, X_trainSP_enc.shape[1], X_trainSP_enc.shape[1]), \n",
    "         np.cumsum(pca.explained_variance_ratio_), where='mid',\n",
    "         label='Sum of explained variance ratio')\n",
    "\n",
    "plt.ylabel('Explained variance', size=14)\n",
    "plt.xlabel('Number of principal components', size=14)\n",
    "plt.legend()\n",
    "\n",
    "plt.show()"
   ]
  },
  {
   "cell_type": "markdown",
   "metadata": {
    "id": "H2Gb00l97qNo"
   },
   "source": [
    "**Other states**"
   ]
  },
  {
   "cell_type": "code",
   "execution_count": null,
   "metadata": {
    "id": "shWhYXFV3WoE"
   },
   "outputs": [],
   "source": [
    "pca = PCA()\n",
    "principalComponents = pca.fit_transform(X_trainFora_enc)"
   ]
  },
  {
   "cell_type": "code",
   "execution_count": null,
   "metadata": {
    "colab": {
     "base_uri": "https://localhost:8080/",
     "height": 610
    },
    "executionInfo": {
     "elapsed": 1106,
     "status": "ok",
     "timestamp": 1620911703927,
     "user": {
      "displayName": "Lucas Buk Cardoso",
      "photoUrl": "",
      "userId": "13718893696373545505"
     },
     "user_tz": 180
    },
    "id": "usotDQUA3T64",
    "outputId": "563d4aeb-d0ec-4ea7-8676-b55cfec8290e"
   },
   "outputs": [
    {
     "data": {
      "image/png": "[encoded data removed]",
      "text/plain": [
       "<Figure size 1440x720 with 1 Axes>"
      ]
     },
     "metadata": {
      "needs_background": "light",
      "tags": []
     },
     "output_type": "display_data"
    }
   ],
   "source": [
    "plt.figure(figsize=(20,10))\n",
    "\n",
    "plt.bar(np.linspace(1, X_trainFora_enc.shape[1], X_trainFora_enc.shape[1]), \n",
    "        pca.explained_variance_ratio_, alpha=0.5, align='center', label='Variance ratio')\n",
    "\n",
    "plt.step(np.linspace(1, X_trainFora_enc.shape[1], X_trainFora_enc.shape[1]), \n",
    "         np.cumsum(pca.explained_variance_ratio_), where='mid',\n",
    "         label='Sum of explained variance ratio')\n",
    "\n",
    "plt.ylabel('Explained variance', size=14)\n",
    "plt.xlabel('Number of principal components', size=14)\n",
    "plt.legend()\n",
    "\n",
    "plt.show()"
   ]
  },
  {
   "cell_type": "markdown",
   "metadata": {
    "id": "xZxxgl1c7qNq"
   },
   "source": [
    "## **Balancing the data**"
   ]
  },
  {
   "cell_type": "markdown",
   "metadata": {
    "id": "_b60ts8M4KXh"
   },
   "source": [
    "As mentioned earlier, we have unbalanced data, more labels with value 1 than with value 0. Therefore, we will use methods to balance the data.\n",
    "\n",
    "In both datasets an oversampling will be used, which creates new data for the label with less values (`RECNENHUM = 0`), after that we have both labels with the same number of examples."
   ]
  },
  {
   "cell_type": "markdown",
   "metadata": {
    "id": "6hc_0EMR7qNr"
   },
   "source": [
    "**SP**"
   ]
  },
  {
   "cell_type": "code",
   "execution_count": null,
   "metadata": {
    "colab": {
     "base_uri": "https://localhost:8080/"
    },
    "executionInfo": {
     "elapsed": 551,
     "status": "ok",
     "timestamp": 1620919784165,
     "user": {
      "displayName": "Lucas Buk Cardoso",
      "photoUrl": "",
      "userId": "13718893696373545505"
     },
     "user_tz": 180
    },
    "id": "pNHmNWts7qNr",
    "outputId": "b974e988-a405-4909-b4ff-098b433322b8"
   },
   "outputs": [
    {
     "data": {
      "text/plain": [
       "1    300057\n",
       "0     55269\n",
       "Name: RECNENHUM, dtype: int64"
      ]
     },
     "execution_count": 30,
     "metadata": {
      "tags": []
     },
     "output_type": "execute_result"
    }
   ],
   "source": [
    "# Number of values for each label in the training data\n",
    "y_trainSP.value_counts()"
   ]
  },
  {
   "cell_type": "code",
   "execution_count": null,
   "metadata": {
    "id": "HG6fZz3X7qNs"
   },
   "outputs": [],
   "source": [
    "X_SP, y_SP = SMOTE(random_state=seed).fit_resample(X_trainSP_enc, y_trainSP)"
   ]
  },
  {
   "cell_type": "code",
   "execution_count": null,
   "metadata": {
    "colab": {
     "base_uri": "https://localhost:8080/"
    },
    "executionInfo": {
     "elapsed": 427367,
     "status": "ok",
     "timestamp": 1620920219487,
     "user": {
      "displayName": "Lucas Buk Cardoso",
      "photoUrl": "",
      "userId": "13718893696373545505"
     },
     "user_tz": 180
    },
    "id": "3JeUP3P67qNs",
    "outputId": "7c99657b-24b7-43f0-c933-a1381c32547e"
   },
   "outputs": [
    {
     "data": {
      "text/plain": [
       "(600114,)"
      ]
     },
     "execution_count": 32,
     "metadata": {
      "tags": []
     },
     "output_type": "execute_result"
    }
   ],
   "source": [
    "y_SP.shape"
   ]
  },
  {
   "cell_type": "markdown",
   "metadata": {
    "id": "Qx9lYyTF7qNt"
   },
   "source": [
    "**Other states**"
   ]
  },
  {
   "cell_type": "code",
   "execution_count": null,
   "metadata": {
    "colab": {
     "base_uri": "https://localhost:8080/"
    },
    "executionInfo": {
     "elapsed": 1801,
     "status": "ok",
     "timestamp": 1620920242718,
     "user": {
      "displayName": "Lucas Buk Cardoso",
      "photoUrl": "",
      "userId": "13718893696373545505"
     },
     "user_tz": 180
    },
    "id": "eIju2dvv7qNu",
    "outputId": "a4efe458-e0ad-4fe1-96d3-7ad9ca8eeecf"
   },
   "outputs": [
    {
     "data": {
      "text/plain": [
       "1    44367\n",
       "0     2370\n",
       "Name: RECNENHUM, dtype: int64"
      ]
     },
     "execution_count": 33,
     "metadata": {
      "tags": []
     },
     "output_type": "execute_result"
    }
   ],
   "source": [
    "# Number of values for each label in the training data\n",
    "y_trainFora.value_counts()"
   ]
  },
  {
   "cell_type": "code",
   "execution_count": null,
   "metadata": {
    "id": "PnCP1Ag17qNu"
   },
   "outputs": [],
   "source": [
    "X_fora, y_fora = SMOTE(random_state=seed).fit_resample(X_trainFora_enc, y_trainFora)"
   ]
  },
  {
   "cell_type": "code",
   "execution_count": null,
   "metadata": {
    "colab": {
     "base_uri": "https://localhost:8080/"
    },
    "executionInfo": {
     "elapsed": 1641,
     "status": "ok",
     "timestamp": 1620920248946,
     "user": {
      "displayName": "Lucas Buk Cardoso",
      "photoUrl": "",
      "userId": "13718893696373545505"
     },
     "user_tz": 180
    },
    "id": "RtrA264Z7qNv",
    "outputId": "3d360de7-8425-4b7f-bec7-341c2cb22df7"
   },
   "outputs": [
    {
     "data": {
      "text/plain": [
       "(88734,)"
      ]
     },
     "execution_count": 35,
     "metadata": {
      "tags": []
     },
     "output_type": "execute_result"
    }
   ],
   "source": [
    "y_fora.shape"
   ]
  },
  {
   "cell_type": "markdown",
   "metadata": {
    "id": "nRdZQgbP7qNv"
   },
   "source": [
    "## **Training machine learning models**"
   ]
  },
  {
   "cell_type": "markdown",
   "metadata": {
    "id": "W_WyDgly5FIw"
   },
   "source": [
    "After dividing the data into training and testing, using the encoder, normalizing the data and balancing, the data is ready to be used by the machine learning models."
   ]
  },
  {
   "cell_type": "markdown",
   "metadata": {
    "id": "XPNY0nc_7qNw"
   },
   "source": [
    "### **Random Forest**\n"
   ]
  },
  {
   "cell_type": "markdown",
   "metadata": {
    "id": "Zf5Ej-Wx5M2s"
   },
   "source": [
    "The first model that will be tested is the Random Forest, for this test the `random_state` and `class_weight` hyperparameters will be used, the first one to obtain the same training values of the model every time it is runned. The `class_weight` was used because even after balancing the data the model still has difficulty to learn the class with fewer examples."
   ]
  },
  {
   "cell_type": "code",
   "execution_count": null,
   "metadata": {
    "colab": {
     "base_uri": "https://localhost:8080/"
    },
    "executionInfo": {
     "elapsed": 371698,
     "status": "ok",
     "timestamp": 1620920957350,
     "user": {
      "displayName": "Lucas Buk Cardoso",
      "photoUrl": "",
      "userId": "13718893696373545505"
     },
     "user_tz": 180
    },
    "id": "0Kc-CELH7qNw",
    "outputId": "e0d0abb8-e078-4f2d-e416-44063f4876a8"
   },
   "outputs": [
    {
     "data": {
      "text/plain": [
       "RandomForestClassifier(bootstrap=True, ccp_alpha=0.0,\n",
       "                       class_weight={0: 19, 1: 6e-05}, criterion='gini',\n",
       "                       max_depth=None, max_features='auto', max_leaf_nodes=None,\n",
       "                       max_samples=None, min_impurity_decrease=0.0,\n",
       "                       min_impurity_split=None, min_samples_leaf=1,\n",
       "                       min_samples_split=2, min_weight_fraction_leaf=0.0,\n",
       "                       n_estimators=100, n_jobs=None, oob_score=False,\n",
       "                       random_state=10, verbose=0, warm_start=False)"
      ]
     },
     "execution_count": 44,
     "metadata": {
      "tags": []
     },
     "output_type": "execute_result"
    }
   ],
   "source": [
    "# SP \n",
    "rf_sp = RandomForestClassifier(random_state=seed, \n",
    "                               class_weight={0: 19, 1: 0.00006})\n",
    "rf_sp.fit(X_SP, y_SP)"
   ]
  },
  {
   "cell_type": "code",
   "execution_count": null,
   "metadata": {
    "colab": {
     "base_uri": "https://localhost:8080/"
    },
    "executionInfo": {
     "elapsed": 49326,
     "status": "ok",
     "timestamp": 1620920307043,
     "user": {
      "displayName": "Lucas Buk Cardoso",
      "photoUrl": "",
      "userId": "13718893696373545505"
     },
     "user_tz": 180
    },
    "id": "B-uzv1sx7qNx",
    "outputId": "eb738b77-818f-42ed-a4d7-d72fdd76b60d"
   },
   "outputs": [
    {
     "data": {
      "text/plain": [
       "RandomForestClassifier(bootstrap=True, ccp_alpha=0.0,\n",
       "                       class_weight={0: 24, 1: 2.2e-05}, criterion='gini',\n",
       "                       max_depth=None, max_features='auto', max_leaf_nodes=None,\n",
       "                       max_samples=None, min_impurity_decrease=0.0,\n",
       "                       min_impurity_split=None, min_samples_leaf=1,\n",
       "                       min_samples_split=2, min_weight_fraction_leaf=0.0,\n",
       "                       n_estimators=100, n_jobs=None, oob_score=False,\n",
       "                       random_state=10, verbose=0, warm_start=False)"
      ]
     },
     "execution_count": 36,
     "metadata": {
      "tags": []
     },
     "output_type": "execute_result"
    }
   ],
   "source": [
    "# Other states\n",
    "rf_fora = RandomForestClassifier(random_state=seed, \n",
    "                                 class_weight={0: 24, 1: 0.000022})\n",
    "rf_fora.fit(X_fora, y_fora)"
   ]
  },
  {
   "cell_type": "markdown",
   "metadata": {
    "id": "5sxMeojo7qNy"
   },
   "source": [
    "### **XGBoost**\n"
   ]
  },
  {
   "cell_type": "markdown",
   "metadata": {
    "id": "Q-_B1gkw54aV"
   },
   "source": [
    "The training of the XGBoost model follows the same pattern with `random_state`. A smaller weight was also used for the class with fewer examples, using the hyperparameter `scale_pos_weight`, for both models.\n",
    "\n",
    "The hyperparameter `max_depth` was chosen as 15 because the default value for this hyperparameter is 3, a low value for the amount of data we have."
   ]
  },
  {
   "cell_type": "code",
   "execution_count": null,
   "metadata": {
    "colab": {
     "base_uri": "https://localhost:8080/"
    },
    "executionInfo": {
     "elapsed": 841521,
     "status": "ok",
     "timestamp": 1620921859916,
     "user": {
      "displayName": "Lucas Buk Cardoso",
      "photoUrl": "",
      "userId": "13718893696373545505"
     },
     "user_tz": 180
    },
    "id": "RbOaOlrO7qNy",
    "outputId": "78458cb1-c63b-4527-a52e-830972085caf"
   },
   "outputs": [
    {
     "data": {
      "text/plain": [
       "XGBClassifier(base_score=0.5, booster='gbtree', colsample_bylevel=1,\n",
       "              colsample_bynode=1, colsample_bytree=1, gamma=0,\n",
       "              learning_rate=0.1, max_delta_step=0, max_depth=15,\n",
       "              min_child_weight=1, missing=None, n_estimators=100, n_jobs=1,\n",
       "              nthread=None, objective='binary:logistic', random_state=10,\n",
       "              reg_alpha=0, reg_lambda=1, scale_pos_weight=0.15, seed=None,\n",
       "              silent=None, subsample=1, verbosity=1)"
      ]
     },
     "execution_count": 47,
     "metadata": {
      "tags": []
     },
     "output_type": "execute_result"
    }
   ],
   "source": [
    "# SP\n",
    "xgboost_sp = xgb.XGBClassifier(max_depth=15,\n",
    "                               scale_pos_weight=0.15,\n",
    "                               random_state=seed)\n",
    "\n",
    "xgboost_sp.fit(X_SP, y_SP)"
   ]
  },
  {
   "cell_type": "code",
   "execution_count": null,
   "metadata": {
    "colab": {
     "base_uri": "https://localhost:8080/"
    },
    "executionInfo": {
     "elapsed": 86302,
     "status": "ok",
     "timestamp": 1620920480365,
     "user": {
      "displayName": "Lucas Buk Cardoso",
      "photoUrl": "",
      "userId": "13718893696373545505"
     },
     "user_tz": 180
    },
    "id": "nd9wWYd27qNz",
    "outputId": "08412afa-2edd-435f-fd4e-b4bde13ef619"
   },
   "outputs": [
    {
     "data": {
      "text/plain": [
       "XGBClassifier(base_score=0.5, booster='gbtree', colsample_bylevel=1,\n",
       "              colsample_bynode=1, colsample_bytree=1, gamma=0,\n",
       "              learning_rate=0.1, max_delta_step=0, max_depth=15,\n",
       "              min_child_weight=1, missing=None, n_estimators=100, n_jobs=1,\n",
       "              nthread=None, objective='binary:logistic', random_state=10,\n",
       "              reg_alpha=0, reg_lambda=1, scale_pos_weight=0.02, seed=None,\n",
       "              silent=None, subsample=1, verbosity=1)"
      ]
     },
     "execution_count": 41,
     "metadata": {
      "tags": []
     },
     "output_type": "execute_result"
    }
   ],
   "source": [
    "# Other states\n",
    "xgboost_fora = xgb.XGBClassifier(max_depth=15,\n",
    "                                 scale_pos_weight=0.02, # 0.05 - 0.01\n",
    "                                 random_state=seed)\n",
    "\n",
    "xgboost_fora.fit(X_fora, y_fora)"
   ]
  },
  {
   "cell_type": "markdown",
   "metadata": {
    "id": "LUVJ5SWF7qN1"
   },
   "source": [
    "## **Models evaluation**"
   ]
  },
  {
   "cell_type": "markdown",
   "metadata": {
    "id": "mHE8I1vN6OeR"
   },
   "source": [
    "After training the models, we will use the confusion matrix to verify the performances, the features importances for each model will also be obtained."
   ]
  },
  {
   "cell_type": "markdown",
   "metadata": {
    "id": "wzAYYDTR7qN2"
   },
   "source": [
    "### **Preprocessing of testing data**\n"
   ]
  },
  {
   "cell_type": "markdown",
   "metadata": {
    "id": "nNTZ3onr6UGt"
   },
   "source": [
    "The preprocessing of the test data was also done using a function, `test_preprocessing`, passing the test data and the encoder and normalizer, trained to the training data, as parameters.\n",
    "\n",
    "> See the complete function in the [functions section](https://cancer-project.readthedocs.io/en/latest/Cancer%20Libraries%20and%20functions.html#Models)"
   ]
  },
  {
   "cell_type": "code",
   "execution_count": null,
   "metadata": {
    "id": "Mf1tZTGl7qN2"
   },
   "outputs": [],
   "source": [
    "# SP\n",
    "X_testSP_ = test_preprocessing(X_testSP, enc_SP, norm_SP)"
   ]
  },
  {
   "cell_type": "code",
   "execution_count": null,
   "metadata": {
    "id": "O7ilB_SP7qN3"
   },
   "outputs": [],
   "source": [
    "# Other states\n",
    "X_testFora_ = test_preprocessing(X_testFora, enc_fora, norm_fora)"
   ]
  },
  {
   "cell_type": "markdown",
   "metadata": {
    "id": "uDikTsuh7qN3"
   },
   "source": [
    "### **Random Forest**\n"
   ]
  },
  {
   "cell_type": "markdown",
   "metadata": {
    "id": "VLhHR1ev6eVH"
   },
   "source": [
    "Below we have the confusion matrices for the Random Forest models, followed by the graph with the most important features for each model."
   ]
  },
  {
   "cell_type": "code",
   "execution_count": null,
   "metadata": {
    "colab": {
     "base_uri": "https://localhost:8080/",
     "height": 279
    },
    "executionInfo": {
     "elapsed": 8525,
     "status": "ok",
     "timestamp": 1620920994021,
     "user": {
      "displayName": "Lucas Buk Cardoso",
      "photoUrl": "",
      "userId": "13718893696373545505"
     },
     "user_tz": 180
    },
    "id": "yhm5UmsC7qN4",
    "outputId": "8d79f941-4e3b-4c08-86ff-c87c8ae2bdaf"
   },
   "outputs": [
    {
     "data": {
      "image/png": "[encoded data removed]",
      "text/plain": [
       "<Figure size 432x288 with 2 Axes>"
      ]
     },
     "metadata": {
      "needs_background": "light",
      "tags": []
     },
     "output_type": "display_data"
    }
   ],
   "source": [
    "plot_confusion_matrix(rf_sp, X_testSP_, y_testSP, cmap='Blues', normalize=\"true\", values_format='.2f')\n",
    "plt.show()"
   ]
  },
  {
   "cell_type": "markdown",
   "metadata": {
    "id": "Nmt6jkPD6iwz"
   },
   "source": [
    "> The confusion matrix obtained for the Random Forest algorithm with the SP data shows a good performance of the model, because we obtained a confusion matrix with the balanced main diagonal."
   ]
  },
  {
   "cell_type": "code",
   "execution_count": null,
   "metadata": {
    "colab": {
     "base_uri": "https://localhost:8080/",
     "height": 592
    },
    "executionInfo": {
     "elapsed": 1095,
     "status": "ok",
     "timestamp": 1620921006927,
     "user": {
      "displayName": "Lucas Buk Cardoso",
      "photoUrl": "",
      "userId": "13718893696373545505"
     },
     "user_tz": 180
    },
    "id": "_yV2b44J7qN4",
    "outputId": "9e3b9b00-31e8-4402-8e01-691d663d9662"
   },
   "outputs": [
    {
     "data": {
      "image/png": "[encoded data removed]",
      "text/plain": [
       "<Figure size 720x720 with 1 Axes>"
      ]
     },
     "metadata": {
      "needs_background": "light",
      "tags": []
     },
     "output_type": "display_data"
    }
   ],
   "source": [
    "plot_feat_importances(rf_sp, X_testSP)"
   ]
  },
  {
   "cell_type": "markdown",
   "metadata": {
    "id": "Z9TxkCfg6ma3"
   },
   "source": [
    "> The four most important features in the model were `ANODIAG`, `delta_t1`, `delta_t3` and `IBGE`. `delta_t1` is the difference, in days, between diagnosis and consultation and `delta_t3` is the differnce between treatment and consultation."
   ]
  },
  {
   "cell_type": "code",
   "execution_count": null,
   "metadata": {
    "colab": {
     "base_uri": "https://localhost:8080/",
     "height": 281
    },
    "executionInfo": {
     "elapsed": 1393,
     "status": "ok",
     "timestamp": 1620920378713,
     "user": {
      "displayName": "Lucas Buk Cardoso",
      "photoUrl": "",
      "userId": "13718893696373545505"
     },
     "user_tz": 180
    },
    "id": "VzqhN3227qN5",
    "outputId": "3c412aa4-1eb1-4ebd-c0ed-7b9aa70606a5"
   },
   "outputs": [
    {
     "data": {
      "image/png": "[encoded data removed]",
      "text/plain": [
       "<Figure size 432x288 with 2 Axes>"
      ]
     },
     "metadata": {
      "needs_background": "light",
      "tags": []
     },
     "output_type": "display_data"
    }
   ],
   "source": [
    "plot_confusion_matrix(rf_fora, X_testFora_, y_testFora, cmap='Blues', normalize=\"true\", values_format='.2f')\n",
    "plt.show()"
   ]
  },
  {
   "cell_type": "markdown",
   "metadata": {
    "id": "JYOOQK_g6teG"
   },
   "source": [
    "> The confusion matrix obtained for the Random Forest algorithm with the data from another states also shows a good performance of the model, we have a more balanced main diagonal in the confusion matrix, with almost 70% of accuracy for both classes.\n",
    "\n",
    "> The performance was worse in relation to the first classifiers because we removed more features in this case, representing a loss in the accuracy of the models.\n"
   ]
  },
  {
   "cell_type": "code",
   "execution_count": null,
   "metadata": {
    "colab": {
     "base_uri": "https://localhost:8080/",
     "height": 592
    },
    "executionInfo": {
     "elapsed": 1105,
     "status": "ok",
     "timestamp": 1620920383838,
     "user": {
      "displayName": "Lucas Buk Cardoso",
      "photoUrl": "",
      "userId": "13718893696373545505"
     },
     "user_tz": 180
    },
    "id": "X1POUufD7qN6",
    "outputId": "04428f0d-31f3-442a-9d6f-52d0acd06e6d"
   },
   "outputs": [
    {
     "data": {
      "image/png": "[encoded data removed]",
      "text/plain": [
       "<Figure size 720x720 with 1 Axes>"
      ]
     },
     "metadata": {
      "needs_background": "light",
      "tags": []
     },
     "output_type": "display_data"
    }
   ],
   "source": [
    "plot_feat_importances(rf_fora, X_testFora)"
   ]
  },
  {
   "cell_type": "markdown",
   "metadata": {
    "id": "ikTg_uwx6wVR"
   },
   "source": [
    "> The four most important features in the model were `ANODIAG`, `IBGE`, `delta_t3` and `delta_t1`, the last two being the difference, in days, between  treatment and consultation and between diagnosis and consultation, respectively."
   ]
  },
  {
   "cell_type": "markdown",
   "metadata": {
    "id": "SEthmGFq7qN6"
   },
   "source": [
    "### **XGBoost**\n"
   ]
  },
  {
   "cell_type": "markdown",
   "metadata": {
    "id": "P_RKYq379are"
   },
   "source": [
    "Below we have the confusion matrices for the XGBoost models, followed by the graph with the most important features for each model."
   ]
  },
  {
   "cell_type": "code",
   "execution_count": null,
   "metadata": {
    "colab": {
     "base_uri": "https://localhost:8080/",
     "height": 279
    },
    "executionInfo": {
     "elapsed": 4045,
     "status": "ok",
     "timestamp": 1620921884024,
     "user": {
      "displayName": "Lucas Buk Cardoso",
      "photoUrl": "",
      "userId": "13718893696373545505"
     },
     "user_tz": 180
    },
    "id": "Z69B0we27qN7",
    "outputId": "36c4a68c-342d-414b-81c6-07762a9b90da"
   },
   "outputs": [
    {
     "data": {
      "image/png": "[encoded data removed]",
      "text/plain": [
       "<Figure size 432x288 with 2 Axes>"
      ]
     },
     "metadata": {
      "needs_background": "light",
      "tags": []
     },
     "output_type": "display_data"
    }
   ],
   "source": [
    "plot_confusion_matrix(xgboost_sp, X_testSP_, y_testSP, cmap='Blues', normalize=\"true\", values_format='.2f')\n",
    "plt.show()"
   ]
  },
  {
   "cell_type": "markdown",
   "metadata": {
    "id": "8B20CHbF9f7z"
   },
   "source": [
    "> The confusion matrix obtained for the XGBoost algorithm with the SP data shows a good performance of the model, even better than the Random Forest model.\n",
    "\n",
    "> We also obtained a confusion matrix with the balanced main diagonal, it is possible to refine the class weight to obtain a better balance."
   ]
  },
  {
   "cell_type": "code",
   "execution_count": null,
   "metadata": {
    "colab": {
     "base_uri": "https://localhost:8080/",
     "height": 592
    },
    "executionInfo": {
     "elapsed": 2281,
     "status": "ok",
     "timestamp": 1620921890262,
     "user": {
      "displayName": "Lucas Buk Cardoso",
      "photoUrl": "",
      "userId": "13718893696373545505"
     },
     "user_tz": 180
    },
    "id": "9ZVYMj5p7qN7",
    "outputId": "34eddfd8-6e45-4d1b-dd00-e5dc4987e9ac"
   },
   "outputs": [
    {
     "data": {
      "image/png": "[encoded data removed]",
      "text/plain": [
       "<Figure size 720x720 with 1 Axes>"
      ]
     },
     "metadata": {
      "needs_background": "light",
      "tags": []
     },
     "output_type": "display_data"
    }
   ],
   "source": [
    "plot_feat_importances(xgboost_sp, X_testSP)"
   ]
  },
  {
   "cell_type": "markdown",
   "metadata": {
    "id": "-28zB0IJ9kZF"
   },
   "source": [
    "> Again we noticed that the most used feature was `ECGRUP`, but not with a lot of advantage as seen in the previous analysis. The following most important features were `FAIXAETAR`, `ANODIAG` and `TOPOGRUP`."
   ]
  },
  {
   "cell_type": "code",
   "execution_count": null,
   "metadata": {
    "colab": {
     "base_uri": "https://localhost:8080/",
     "height": 279
    },
    "executionInfo": {
     "elapsed": 1059,
     "status": "ok",
     "timestamp": 1620920545121,
     "user": {
      "displayName": "Lucas Buk Cardoso",
      "photoUrl": "",
      "userId": "13718893696373545505"
     },
     "user_tz": 180
    },
    "id": "tQNSAmSC7qN8",
    "outputId": "091ad0bb-b81e-4e76-d27e-298b1397b231"
   },
   "outputs": [
    {
     "data": {
      "image/png": "[encoded data removed]",
      "text/plain": [
       "<Figure size 432x288 with 2 Axes>"
      ]
     },
     "metadata": {
      "needs_background": "light",
      "tags": []
     },
     "output_type": "display_data"
    }
   ],
   "source": [
    "plot_confusion_matrix(xgboost_fora, X_testFora_, y_testFora, cmap='Blues', normalize=\"true\", values_format='.2f')\n",
    "plt.show() "
   ]
  },
  {
   "cell_type": "markdown",
   "metadata": {
    "id": "R4eXZbUz9ocX"
   },
   "source": [
    "> The confusion matrix obtained for the XGBoost algorithm with the data from another states also shows a good performance of the model, even better than the Random Forest model too. It is possible to refine the class weight to obtain a better balance in the main diagonal."
   ]
  },
  {
   "cell_type": "code",
   "execution_count": null,
   "metadata": {
    "colab": {
     "base_uri": "https://localhost:8080/",
     "height": 592
    },
    "executionInfo": {
     "elapsed": 1084,
     "status": "ok",
     "timestamp": 1620920548918,
     "user": {
      "displayName": "Lucas Buk Cardoso",
      "photoUrl": "",
      "userId": "13718893696373545505"
     },
     "user_tz": 180
    },
    "id": "fO4GgqN57qN8",
    "outputId": "86eff1c8-4a46-4091-9286-646d5e77b008"
   },
   "outputs": [
    {
     "data": {
      "image/png": "[encoded data removed]",
      "text/plain": [
       "<Figure size 720x720 with 1 Axes>"
      ]
     },
     "metadata": {
      "needs_background": "light",
      "tags": []
     },
     "output_type": "display_data"
    }
   ],
   "source": [
    "plot_feat_importances(xgboost_fora, X_testFora)"
   ]
  },
  {
   "cell_type": "markdown",
   "metadata": {
    "id": "g7pIL-fF92nO"
   },
   "source": [
    "> The four most important features in the model were `GLEASON`, `FAIXAETAR`, `ECGRUP`, and `QUIMIO`."
   ]
  },
  {
   "cell_type": "markdown",
   "metadata": {
    "id": "wktYFbDgKneA"
   },
   "source": [
    "# **Classification - RECDIST**"
   ]
  },
  {
   "cell_type": "markdown",
   "metadata": {
    "id": "2vKAq_i9EaCN"
   },
   "source": [
    "In this section, two machine learning models will be used to classify the `RECDIST` column, Random Forest and XGBoost.\n",
    "\n",
    "The label is 0 if there was no distant recurrence and 1 if there was."
   ]
  },
  {
   "cell_type": "markdown",
   "metadata": {
    "id": "ijli2WBMPSOb"
   },
   "source": [
    "## **Reading the data**"
   ]
  },
  {
   "cell_type": "markdown",
   "metadata": {
    "id": "v7yI_YaRHRB0"
   },
   "source": [
    "Reading the data from SP and other states.\n",
    "\n",
    "We can see that we still have some missing values in both datasets, but the column `DTRECIDIVA` will be dropped, as well the `IDADE` column, because the column `FAIXAETAR` will be used, both have information about the age of the patients. \n",
    "\n",
    "The columns `delta_t4`, `delta_t5` and `delta_t6`, can be used as a label in a future analysis, so they will not be as features of the created models."
   ]
  },
  {
   "cell_type": "code",
   "execution_count": null,
   "metadata": {
    "colab": {
     "base_uri": "https://localhost:8080/"
    },
    "executionInfo": {
     "elapsed": 12678,
     "status": "ok",
     "timestamp": 1620924380730,
     "user": {
      "displayName": "Lucas Buk Cardoso",
      "photoUrl": "",
      "userId": "13718893696373545505"
     },
     "user_tz": 180
    },
    "id": "c3OGMc_7KneU",
    "outputId": "1e7fc78f-554a-4ffe-a457-a4a4989d2742"
   },
   "outputs": [
    {
     "name": "stdout",
     "output_type": "stream",
     "text": [
      "(806402, 94)\n",
      "(62317, 94)\n"
     ]
    }
   ],
   "source": [
    "df_SP = read_csv('/content/drive/MyDrive/Trabalho/Cancer/Datasets/cancer_SP_labels.csv')\n",
    "df_fora = read_csv('/content/drive/MyDrive/Trabalho/Cancer/Datasets/cancer_foraSP_labels.csv')"
   ]
  },
  {
   "cell_type": "code",
   "execution_count": null,
   "metadata": {
    "colab": {
     "base_uri": "https://localhost:8080/"
    },
    "executionInfo": {
     "elapsed": 13859,
     "status": "ok",
     "timestamp": 1620924381926,
     "user": {
      "displayName": "Lucas Buk Cardoso",
      "photoUrl": "",
      "userId": "13718893696373545505"
     },
     "user_tz": 180
    },
    "id": "eDVSwLKDKneX",
    "outputId": "af8897c0-00ee-4dec-c78b-b47a802ecebd"
   },
   "outputs": [
    {
     "data": {
      "text/plain": [
       "DTRECIDIVA    717377\n",
       "delta_t6      717377\n",
       "delta_t5      717377\n",
       "delta_t4      717377\n",
       "IDADE              1\n",
       "TRATAMENTO         0\n",
       "dtype: int64"
      ]
     },
     "execution_count": 51,
     "metadata": {
      "tags": []
     },
     "output_type": "execute_result"
    }
   ],
   "source": [
    "df_SP.isna().sum().sort_values(ascending=False).head(6)"
   ]
  },
  {
   "cell_type": "code",
   "execution_count": null,
   "metadata": {
    "colab": {
     "base_uri": "https://localhost:8080/"
    },
    "executionInfo": {
     "elapsed": 13851,
     "status": "ok",
     "timestamp": 1620924381927,
     "user": {
      "displayName": "Lucas Buk Cardoso",
      "photoUrl": "",
      "userId": "13718893696373545505"
     },
     "user_tz": 180
    },
    "id": "OMHYLQf6KneZ",
    "outputId": "15caf56d-f9c0-4d12-d897-0730f2458034"
   },
   "outputs": [
    {
     "data": {
      "text/plain": [
       "DTRECIDIVA    57799\n",
       "delta_t6      57799\n",
       "delta_t5      57799\n",
       "delta_t4      57799\n",
       "NAOTRAT           0\n",
       "LOCALTNM          0\n",
       "dtype: int64"
      ]
     },
     "execution_count": 52,
     "metadata": {
      "tags": []
     },
     "output_type": "execute_result"
    }
   ],
   "source": [
    "df_fora.isna().sum().sort_values(ascending=False).head(6)"
   ]
  },
  {
   "cell_type": "markdown",
   "metadata": {
    "id": "KADae2RfAsXC"
   },
   "source": [
    "Here we have the correlations between the label and the other columns, the columns with higher correlations will not be used as features of the models, because they may have been used to create the label, such as the ``ULTINFO`` column, or they can be used as label for other machine learning models."
   ]
  },
  {
   "cell_type": "code",
   "execution_count": null,
   "metadata": {
    "colab": {
     "base_uri": "https://localhost:8080/"
    },
    "executionInfo": {
     "elapsed": 21452,
     "status": "ok",
     "timestamp": 1620924389538,
     "user": {
      "displayName": "Lucas Buk Cardoso",
      "photoUrl": "",
      "userId": "13718893696373545505"
     },
     "user_tz": 180
    },
    "id": "7ufHOaLRKneX",
    "outputId": "7c6bdbae-ef74-4d07-8129-8ed2e15012e2"
   },
   "outputs": [
    {
     "data": {
      "text/plain": [
       "RECDIST         1.000000\n",
       "RECNENHUM       0.497837\n",
       "ob_com_rec      0.427203\n",
       "vivo_com_rec    0.238029\n",
       "vivo_sem_rec    0.181668\n",
       "ano_ob          0.119045\n",
       "ob_sem_rec      0.113154\n",
       "QUIMIO          0.109437\n",
       "ob              0.105117\n",
       "CATEATEND       0.093630\n",
       "ANODIAG         0.084918\n",
       "LATERALI        0.081624\n",
       "RECLOCAL        0.058266\n",
       "PERDASEG        0.055281\n",
       "HORMONIO        0.045904\n",
       "RRAS            0.043732\n",
       "IBGEATEN        0.043044\n",
       "RADIO           0.041206\n",
       "delta_t5        0.040047\n",
       "RADIOAPOS       0.038809\n",
       "Name: RECDIST, dtype: float64"
      ]
     },
     "execution_count": 53,
     "metadata": {
      "tags": []
     },
     "output_type": "execute_result"
    }
   ],
   "source": [
    "corr_matrix = df_SP.corr()\n",
    "abs(corr_matrix['RECDIST']).sort_values(ascending = False).head(20)"
   ]
  },
  {
   "cell_type": "code",
   "execution_count": null,
   "metadata": {
    "colab": {
     "base_uri": "https://localhost:8080/"
    },
    "executionInfo": {
     "elapsed": 22112,
     "status": "ok",
     "timestamp": 1620924390209,
     "user": {
      "displayName": "Lucas Buk Cardoso",
      "photoUrl": "",
      "userId": "13718893696373545505"
     },
     "user_tz": 180
    },
    "id": "vQfRRpXzKneZ",
    "outputId": "3550db0d-f2cc-4ce7-be0a-0a9fdd12fff1"
   },
   "outputs": [
    {
     "data": {
      "text/plain": [
       "RECDIST         1.000000\n",
       "RECNENHUM       0.579667\n",
       "ob_com_rec      0.459205\n",
       "vivo_com_rec    0.343707\n",
       "vivo_sem_rec    0.202364\n",
       "ano_ob          0.120521\n",
       "QUIMIO          0.107406\n",
       "ob              0.095742\n",
       "CATEATEND       0.087712\n",
       "ob_sem_rec      0.078666\n",
       "LATERALI        0.073880\n",
       "DIAGPREV        0.071119\n",
       "ANODIAG         0.067613\n",
       "RADIO           0.062403\n",
       "RECLOCAL        0.050995\n",
       "PERDASEG        0.047730\n",
       "HORMONIO        0.046865\n",
       "delta_t5        0.030107\n",
       "DIAGTRAT        0.027065\n",
       "delta_t2        0.027065\n",
       "Name: RECDIST, dtype: float64"
      ]
     },
     "execution_count": 54,
     "metadata": {
      "tags": []
     },
     "output_type": "execute_result"
    }
   ],
   "source": [
    "corr_matrix = df_fora.corr()\n",
    "abs(corr_matrix['RECDIST']).sort_values(ascending = False).head(20)"
   ]
  },
  {
   "cell_type": "markdown",
   "metadata": {
    "id": "nVn-qVJJA5AF"
   },
   "source": [
    "Here we have the number of examples for each category of the label, it is clear that there is an imbalance, similar to the previous classification. We will need to fix this problem in the preprocessing step and in the models training."
   ]
  },
  {
   "cell_type": "code",
   "execution_count": null,
   "metadata": {
    "colab": {
     "base_uri": "https://localhost:8080/"
    },
    "executionInfo": {
     "elapsed": 22102,
     "status": "ok",
     "timestamp": 1620924390210,
     "user": {
      "displayName": "Lucas Buk Cardoso",
      "photoUrl": "",
      "userId": "13718893696373545505"
     },
     "user_tz": 180
    },
    "id": "yW2x2Hk5Knea",
    "outputId": "7db050c5-57ba-4f3a-a5e6-24999a2e5a74"
   },
   "outputs": [
    {
     "data": {
      "text/plain": [
       "0    786768\n",
       "1     19634\n",
       "Name: RECDIST, dtype: int64"
      ]
     },
     "execution_count": 55,
     "metadata": {
      "tags": []
     },
     "output_type": "execute_result"
    }
   ],
   "source": [
    "df_SP.RECDIST.value_counts()"
   ]
  },
  {
   "cell_type": "code",
   "execution_count": null,
   "metadata": {
    "colab": {
     "base_uri": "https://localhost:8080/"
    },
    "executionInfo": {
     "elapsed": 22093,
     "status": "ok",
     "timestamp": 1620924390211,
     "user": {
      "displayName": "Lucas Buk Cardoso",
      "photoUrl": "",
      "userId": "13718893696373545505"
     },
     "user_tz": 180
    },
    "id": "9vV67Jb9Kneb",
    "outputId": "5c91dc3e-93db-4955-81db-e8024a45fb4e"
   },
   "outputs": [
    {
     "data": {
      "text/plain": [
       "0    61211\n",
       "1     1106\n",
       "Name: RECDIST, dtype: int64"
      ]
     },
     "execution_count": 56,
     "metadata": {
      "tags": []
     },
     "output_type": "execute_result"
    }
   ],
   "source": [
    "df_fora.RECDIST.value_counts()"
   ]
  },
  {
   "cell_type": "markdown",
   "metadata": {
    "id": "grcJxzdUKnea"
   },
   "source": [
    "## **Training and testing split**"
   ]
  },
  {
   "cell_type": "markdown",
   "metadata": {
    "id": "J7w4PpbrBTm2"
   },
   "source": [
    "Now we are going to divide the data into training and testing, to perform the training of the models and then their evaluation.\n",
    "\n",
    "First, as we did in the last classification, 400 thousand examples will be selected from label 0, of almost 800 thousand that we have available, and then this subset will be concatenated with the one containing label 1. Thus, oversampling and training of the models will take less time."
   ]
  },
  {
   "cell_type": "code",
   "execution_count": null,
   "metadata": {
    "colab": {
     "base_uri": "https://localhost:8080/"
    },
    "executionInfo": {
     "elapsed": 24003,
     "status": "ok",
     "timestamp": 1620924394093,
     "user": {
      "displayName": "Lucas Buk Cardoso",
      "photoUrl": "",
      "userId": "13718893696373545505"
     },
     "user_tz": 180
    },
    "id": "CcPQ9jS19HX5",
    "outputId": "2d57016d-86cf-4dee-99d3-2ffe6d1b4c22"
   },
   "outputs": [
    {
     "data": {
      "text/plain": [
       "0    400000\n",
       "1     19634\n",
       "Name: RECDIST, dtype: int64"
      ]
     },
     "execution_count": 57,
     "metadata": {
      "tags": []
     },
     "output_type": "execute_result"
    }
   ],
   "source": [
    "n_samples = 400000\n",
    "df_SP_sem_rec = df_SP[df_SP.RECDIST == 0].sample(n_samples, random_state=seed).sort_index()\n",
    "df_SP_rec = df_SP[df_SP.RECDIST == 1]\n",
    "df_SP_menor = pd.concat([df_SP_rec, df_SP_sem_rec]).sort_index()\n",
    "df_SP_menor.RECDIST.value_counts()"
   ]
  },
  {
   "cell_type": "markdown",
   "metadata": {
    "id": "EvhhFaanB7pm"
   },
   "source": [
    "To define the columns that will be used as features and the label, the process will be similar to the one used previously. \n",
    "\n",
    "For the features we will not use some columns of the data: `UFRESID`, because we already have the division between SP and other states in the two datasets. The date columns will also be removed, `DTCONSULT, DTDIAG, DTTRAT, DTRECIDIVA, DTULTINFO`, because we already have the difference in days in other columns. \n",
    "\n",
    "It was chosen to keep the column `FAIXAETAR`, so we will not use the `IDADE`. Regarding `PERDASEG`, it has already been discussed in the previous section.\n",
    "\n",
    "The columns `CONSDIAG, TRATCONS, DIAGTRAT` contain the same information as the `delta_t1, delta_t2, delta_t3`. As the label is related to the patients' recurrence, the information related to this will be removed from the features, `RECNENHUM, RECLOCAL, RECREGIO, REC01, REC02, REC03, REC04`.\n",
    "\n",
    "Finally, the other columns contained in the list `list_drop` are possible labels, so they will not be used as features for machine learning models."
   ]
  },
  {
   "cell_type": "code",
   "execution_count": null,
   "metadata": {
    "id": "UgdBRSnlKneb"
   },
   "outputs": [],
   "source": [
    "list_drop = ['UFRESID', 'DTCONSULT', 'DTDIAG', 'DTTRAT', 'DTRECIDIVA', 'DTULTINFO',\n",
    "             'IDADE', 'PERDASEG', 'CONSDIAG', 'TRATCONS', 'DIAGTRAT', 'RECNENHUM',\n",
    "             'RECLOCAL', 'RECREGIO', 'REC01', 'REC02', 'REC03', 'REC04', 'delta_t4',\n",
    "             'delta_t5', 'delta_t6', 'delta_t7', 'delta_t8', 'delta_t9', 'ob', 'ano_ob', \n",
    "             'ob_com_rec', 'ob_sem_rec', 'vivo_com_rec', 'vivo_sem_rec', 'ULTINFO']\n",
    "\n",
    "lb = 'RECDIST'"
   ]
  },
  {
   "cell_type": "markdown",
   "metadata": {
    "id": "-pNK3yQcCQ5P"
   },
   "source": [
    "A function was created to perform the division of the data in training and testing, `get_train_test`. It is only necessary to pass the dataframe that will be used, a list with the columns that will not be used and a string with the name of the column that will be the label.\n",
    "\n",
    "> To see the complete function go to the [functions section](https://cancer-project.readthedocs.io/en/latest/Cancer%20Libraries%20and%20functions.html#Models)."
   ]
  },
  {
   "cell_type": "markdown",
   "metadata": {
    "id": "QomEnUytKned"
   },
   "source": [
    "**SP**"
   ]
  },
  {
   "cell_type": "code",
   "execution_count": null,
   "metadata": {
    "colab": {
     "base_uri": "https://localhost:8080/"
    },
    "executionInfo": {
     "elapsed": 24727,
     "status": "ok",
     "timestamp": 1620924394839,
     "user": {
      "displayName": "Lucas Buk Cardoso",
      "photoUrl": "",
      "userId": "13718893696373545505"
     },
     "user_tz": 180
    },
    "id": "hKf9bEICzSD5",
    "outputId": "d0a48f0e-86bd-47be-b8df-ffecb64795b5"
   },
   "outputs": [
    {
     "name": "stdout",
     "output_type": "stream",
     "text": [
      "X_train = (314725, 62), X_test = (104909, 62)\n",
      "y_train = (314725,), y_test = (104909,)\n"
     ]
    }
   ],
   "source": [
    "X_trainSP, X_testSP, y_trainSP, y_testSP = get_train_test(df_SP_menor, list_drop, lb)"
   ]
  },
  {
   "cell_type": "markdown",
   "metadata": {
    "id": "hR6ye-WiKnef"
   },
   "source": [
    "**Other states**"
   ]
  },
  {
   "cell_type": "code",
   "execution_count": null,
   "metadata": {
    "colab": {
     "base_uri": "https://localhost:8080/"
    },
    "executionInfo": {
     "elapsed": 24717,
     "status": "ok",
     "timestamp": 1620924394840,
     "user": {
      "displayName": "Lucas Buk Cardoso",
      "photoUrl": "",
      "userId": "13718893696373545505"
     },
     "user_tz": 180
    },
    "id": "y7yojQqj1PfT",
    "outputId": "19628481-6e7f-4483-8f47-76ae16d4288d"
   },
   "outputs": [
    {
     "name": "stdout",
     "output_type": "stream",
     "text": [
      "X_train = (46737, 62), X_test = (15580, 62)\n",
      "y_train = (46737,), y_test = (15580,)\n"
     ]
    }
   ],
   "source": [
    "X_trainFora, X_testFora, y_trainFora, y_testFora = get_train_test(df_fora, list_drop, lb)"
   ]
  },
  {
   "cell_type": "markdown",
   "metadata": {
    "id": "knknMJ7_Kneg"
   },
   "source": [
    "## **Encoder and normalization**"
   ]
  },
  {
   "cell_type": "markdown",
   "metadata": {
    "id": "dHx7KgQxCcdR"
   },
   "source": [
    "After dividing the data into training and testing it is necessary to preprocess the training data, for this a function was created, `train_preprocessing`, it returns the data encoded (columns that are strings) and normalized. Training data is required for the function.\n",
    "\n",
    "> See the complete function in the [functions section](https://cancer-project.readthedocs.io/en/latest/Cancer%20Libraries%20and%20functions.html#Models)."
   ]
  },
  {
   "cell_type": "markdown",
   "metadata": {
    "id": "AqpXEJZmKneh"
   },
   "source": [
    "**SP**"
   ]
  },
  {
   "cell_type": "code",
   "execution_count": null,
   "metadata": {
    "id": "6ai5GkWCKneh"
   },
   "outputs": [],
   "source": [
    "X_trainSP_enc, enc_SP, norm_SP = train_preprocessing(X_trainSP, normalizer='StandardScaler')"
   ]
  },
  {
   "cell_type": "markdown",
   "metadata": {
    "id": "LSQr8U8SKnei"
   },
   "source": [
    "**Other states**"
   ]
  },
  {
   "cell_type": "code",
   "execution_count": null,
   "metadata": {
    "id": "Xv4nqr3EKnei"
   },
   "outputs": [],
   "source": [
    "X_trainFora_enc, enc_fora, norm_fora = train_preprocessing(X_trainFora, normalizer='StandardScaler')"
   ]
  },
  {
   "cell_type": "markdown",
   "metadata": {
    "id": "5-C1GBrzKnej"
   },
   "source": [
    "## **PCA**"
   ]
  },
  {
   "cell_type": "markdown",
   "metadata": {
    "id": "607MXLIyEMlN"
   },
   "source": [
    "Using the PCA, it is possible to reduce the dimensionality of the data, decreasing the number of features. As can be seen from the graphs below, with less features used in the models, smaller will be representativeness of the total data.\n",
    "\n",
    "The preprocessing function of the training data already contains this possibility of using the PCA, just use the necessary parameters, see the complete function in the [functions section](https://cancer-project.readthedocs.io/en/latest/Cancer%20Libraries%20and%20functions.html#Models)."
   ]
  },
  {
   "cell_type": "markdown",
   "metadata": {
    "id": "Fk1BSxGGKnej"
   },
   "source": [
    "**SP**"
   ]
  },
  {
   "cell_type": "code",
   "execution_count": null,
   "metadata": {
    "id": "wvXrqZ8pERY6"
   },
   "outputs": [],
   "source": [
    "pca = PCA()\n",
    "principalComponents = pca.fit_transform(X_trainSP_enc)"
   ]
  },
  {
   "cell_type": "code",
   "execution_count": null,
   "metadata": {
    "colab": {
     "base_uri": "https://localhost:8080/",
     "height": 610
    },
    "executionInfo": {
     "elapsed": 1039,
     "status": "ok",
     "timestamp": 1620924422650,
     "user": {
      "displayName": "Lucas Buk Cardoso",
      "photoUrl": "",
      "userId": "13718893696373545505"
     },
     "user_tz": 180
    },
    "id": "aTf-KM_FEMl4",
    "outputId": "a91957ba-8d29-4321-9fcd-5e0dc9c7ba2e"
   },
   "outputs": [
    {
     "data": {
      "image/png": "[encoded data removed]",
      "text/plain": [
       "<Figure size 1440x720 with 1 Axes>"
      ]
     },
     "metadata": {
      "needs_background": "light",
      "tags": []
     },
     "output_type": "display_data"
    }
   ],
   "source": [
    "plt.figure(figsize=(20,10))\n",
    "\n",
    "plt.bar(np.linspace(1, X_trainSP_enc.shape[1], X_trainSP_enc.shape[1]), \n",
    "        pca.explained_variance_ratio_, alpha=0.5, align='center', label='Variance ratio')\n",
    "\n",
    "plt.step(np.linspace(1, X_trainSP_enc.shape[1], X_trainSP_enc.shape[1]), \n",
    "         np.cumsum(pca.explained_variance_ratio_), where='mid',\n",
    "         label='Sum of explained variance ratio')\n",
    "\n",
    "plt.ylabel('Explained variance', size=14)\n",
    "plt.xlabel('Number of principal components', size=14)\n",
    "plt.legend()\n",
    "\n",
    "plt.show()"
   ]
  },
  {
   "cell_type": "markdown",
   "metadata": {
    "id": "Pdv8BqCuKnez"
   },
   "source": [
    "**Other states**"
   ]
  },
  {
   "cell_type": "code",
   "execution_count": null,
   "metadata": {
    "id": "5bwymXvFEd8P"
   },
   "outputs": [],
   "source": [
    "pca = PCA()\n",
    "principalComponents = pca.fit_transform(X_trainFora_enc)"
   ]
  },
  {
   "cell_type": "code",
   "execution_count": null,
   "metadata": {
    "colab": {
     "base_uri": "https://localhost:8080/",
     "height": 610
    },
    "executionInfo": {
     "elapsed": 1187,
     "status": "ok",
     "timestamp": 1620924428184,
     "user": {
      "displayName": "Lucas Buk Cardoso",
      "photoUrl": "",
      "userId": "13718893696373545505"
     },
     "user_tz": 180
    },
    "id": "mqTWIW7lEd8R",
    "outputId": "38fd77ad-0754-4a61-cc48-696acc820a40"
   },
   "outputs": [
    {
     "data": {
      "image/png": "[encoded data removed]",
      "text/plain": [
       "<Figure size 1440x720 with 1 Axes>"
      ]
     },
     "metadata": {
      "needs_background": "light",
      "tags": []
     },
     "output_type": "display_data"
    }
   ],
   "source": [
    "plt.figure(figsize=(20,10))\n",
    "\n",
    "plt.bar(np.linspace(1, X_trainFora_enc.shape[1], X_trainFora_enc.shape[1]), \n",
    "        pca.explained_variance_ratio_, alpha=0.5, align='center', label='Variance ratio')\n",
    "\n",
    "plt.step(np.linspace(1, X_trainFora_enc.shape[1], X_trainFora_enc.shape[1]), \n",
    "         np.cumsum(pca.explained_variance_ratio_), where='mid',\n",
    "         label='Sum of explained variance ratio')\n",
    "\n",
    "plt.ylabel('Explained variance', size=14)\n",
    "plt.xlabel('Number of principal components', size=14)\n",
    "plt.legend()\n",
    "\n",
    "plt.show()"
   ]
  },
  {
   "cell_type": "markdown",
   "metadata": {
    "id": "FV5OiHr-Kne2"
   },
   "source": [
    "## **Balancing the data**"
   ]
  },
  {
   "cell_type": "markdown",
   "metadata": {
    "id": "Go4l0OK-Et_B"
   },
   "source": [
    "As mentioned earlier, we have unbalanced data, more labels with value 0 than in relation with value 1. Therefore, we will use methods to balance the data.\n",
    "\n",
    "In both datasets an oversampling will be used, which creates new data for the label with less values (`RECDIST = 1`), after that we have both labels with the same number of examples."
   ]
  },
  {
   "cell_type": "markdown",
   "metadata": {
    "id": "uFddxXNeKne3"
   },
   "source": [
    "**SP**"
   ]
  },
  {
   "cell_type": "code",
   "execution_count": null,
   "metadata": {
    "colab": {
     "base_uri": "https://localhost:8080/"
    },
    "executionInfo": {
     "elapsed": 554,
     "status": "ok",
     "timestamp": 1620924436966,
     "user": {
      "displayName": "Lucas Buk Cardoso",
      "photoUrl": "",
      "userId": "13718893696373545505"
     },
     "user_tz": 180
    },
    "id": "MsCVo1oyKne3",
    "outputId": "01239116-f6aa-411d-c00c-0cfcdd5c429d"
   },
   "outputs": [
    {
     "data": {
      "text/plain": [
       "0    300054\n",
       "1     14671\n",
       "Name: RECDIST, dtype: int64"
      ]
     },
     "execution_count": 67,
     "metadata": {
      "tags": []
     },
     "output_type": "execute_result"
    }
   ],
   "source": [
    "# Number of values for each label in the training data\n",
    "y_trainSP.value_counts()"
   ]
  },
  {
   "cell_type": "code",
   "execution_count": null,
   "metadata": {
    "id": "XlOdVmK5Kne4"
   },
   "outputs": [],
   "source": [
    "X_SP, y_SP = SMOTE(random_state=seed).fit_resample(X_trainSP_enc, y_trainSP)"
   ]
  },
  {
   "cell_type": "code",
   "execution_count": null,
   "metadata": {
    "colab": {
     "base_uri": "https://localhost:8080/"
    },
    "executionInfo": {
     "elapsed": 23302,
     "status": "ok",
     "timestamp": 1620924464705,
     "user": {
      "displayName": "Lucas Buk Cardoso",
      "photoUrl": "",
      "userId": "13718893696373545505"
     },
     "user_tz": 180
    },
    "id": "vAvlqTKfKne4",
    "outputId": "f8a3cdbe-a4d7-4fba-f8e6-50ba2c32025e"
   },
   "outputs": [
    {
     "data": {
      "text/plain": [
       "(600108,)"
      ]
     },
     "execution_count": 69,
     "metadata": {
      "tags": []
     },
     "output_type": "execute_result"
    }
   ],
   "source": [
    "y_SP.shape"
   ]
  },
  {
   "cell_type": "markdown",
   "metadata": {
    "id": "Rjhwd1sGKne4"
   },
   "source": [
    "**Other states**"
   ]
  },
  {
   "cell_type": "code",
   "execution_count": null,
   "metadata": {
    "colab": {
     "base_uri": "https://localhost:8080/"
    },
    "executionInfo": {
     "elapsed": 574,
     "status": "ok",
     "timestamp": 1620924513128,
     "user": {
      "displayName": "Lucas Buk Cardoso",
      "photoUrl": "",
      "userId": "13718893696373545505"
     },
     "user_tz": 180
    },
    "id": "TCQirBeTKne5",
    "outputId": "1bc64fc8-aac3-4886-8d39-9cab70bf4dc5"
   },
   "outputs": [
    {
     "data": {
      "text/plain": [
       "0    45898\n",
       "1      839\n",
       "Name: RECDIST, dtype: int64"
      ]
     },
     "execution_count": 70,
     "metadata": {
      "tags": []
     },
     "output_type": "execute_result"
    }
   ],
   "source": [
    "# Number of values for each label in the training data\n",
    "y_trainFora.value_counts()"
   ]
  },
  {
   "cell_type": "code",
   "execution_count": null,
   "metadata": {
    "id": "p_HFMUBqKne5"
   },
   "outputs": [],
   "source": [
    "X_fora, y_fora = SMOTE(random_state=seed).fit_resample(X_trainFora_enc, y_trainFora)"
   ]
  },
  {
   "cell_type": "code",
   "execution_count": null,
   "metadata": {
    "colab": {
     "base_uri": "https://localhost:8080/"
    },
    "executionInfo": {
     "elapsed": 700,
     "status": "ok",
     "timestamp": 1620924518159,
     "user": {
      "displayName": "Lucas Buk Cardoso",
      "photoUrl": "",
      "userId": "13718893696373545505"
     },
     "user_tz": 180
    },
    "id": "-MK2yr9QKne6",
    "outputId": "35b51138-79ef-4558-946d-8a232e14035d"
   },
   "outputs": [
    {
     "data": {
      "text/plain": [
       "(91796,)"
      ]
     },
     "execution_count": 72,
     "metadata": {
      "tags": []
     },
     "output_type": "execute_result"
    }
   ],
   "source": [
    "y_fora.shape"
   ]
  },
  {
   "cell_type": "markdown",
   "metadata": {
    "id": "KkfvRh19Kne6"
   },
   "source": [
    "## **Training machine learning models**"
   ]
  },
  {
   "cell_type": "markdown",
   "metadata": {
    "id": "PJeYkMLGFVco"
   },
   "source": [
    "After dividing the data into training and testing, using the encoder, normalizing the data and balancing, the data is ready to be used by the machine learning models."
   ]
  },
  {
   "cell_type": "markdown",
   "metadata": {
    "id": "v34HAZ5jKne6"
   },
   "source": [
    "### **Random Forest**\n"
   ]
  },
  {
   "cell_type": "markdown",
   "metadata": {
    "id": "r9KmgKONFVdL"
   },
   "source": [
    "The first model that will be tested is the Random Forest, for this test the `random_state` and `class_weight` hyperparameters will be used, the first one to obtain the same training values of the model every time it is runned. The `class_weight` was used because even after balancing the data the model still has difficulty to learn the class with fewer examples.\n",
    "\n"
   ]
  },
  {
   "cell_type": "code",
   "execution_count": null,
   "metadata": {
    "colab": {
     "base_uri": "https://localhost:8080/"
    },
    "executionInfo": {
     "elapsed": 439866,
     "status": "ok",
     "timestamp": 1620925060729,
     "user": {
      "displayName": "Lucas Buk Cardoso",
      "photoUrl": "",
      "userId": "13718893696373545505"
     },
     "user_tz": 180
    },
    "id": "jLYQMsXKKne7",
    "outputId": "4bd2052d-644a-46ef-b30d-3677c270962c"
   },
   "outputs": [
    {
     "data": {
      "text/plain": [
       "RandomForestClassifier(bootstrap=True, ccp_alpha=0.0,\n",
       "                       class_weight={0: 3e-05, 1: 18}, criterion='gini',\n",
       "                       max_depth=None, max_features='auto', max_leaf_nodes=None,\n",
       "                       max_samples=None, min_impurity_decrease=0.0,\n",
       "                       min_impurity_split=None, min_samples_leaf=1,\n",
       "                       min_samples_split=2, min_weight_fraction_leaf=0.0,\n",
       "                       n_estimators=100, n_jobs=None, oob_score=False,\n",
       "                       random_state=10, verbose=0, warm_start=False)"
      ]
     },
     "execution_count": 78,
     "metadata": {
      "tags": []
     },
     "output_type": "execute_result"
    }
   ],
   "source": [
    "# SP \n",
    "rf_sp = RandomForestClassifier(random_state=seed, class_weight={0: 0.00003, 1: 18})\n",
    "rf_sp.fit(X_SP, y_SP)"
   ]
  },
  {
   "cell_type": "code",
   "execution_count": null,
   "metadata": {
    "colab": {
     "base_uri": "https://localhost:8080/"
    },
    "executionInfo": {
     "elapsed": 64085,
     "status": "ok",
     "timestamp": 1620924591498,
     "user": {
      "displayName": "Lucas Buk Cardoso",
      "photoUrl": "",
      "userId": "13718893696373545505"
     },
     "user_tz": 180
    },
    "id": "g2ekAURhKne7",
    "outputId": "78b86581-951d-4736-b0b3-cc881a34dd2b"
   },
   "outputs": [
    {
     "data": {
      "text/plain": [
       "RandomForestClassifier(bootstrap=True, ccp_alpha=0.0,\n",
       "                       class_weight={0: 1e-05, 1: 24}, criterion='gini',\n",
       "                       max_depth=None, max_features='auto', max_leaf_nodes=None,\n",
       "                       max_samples=None, min_impurity_decrease=0.0,\n",
       "                       min_impurity_split=None, min_samples_leaf=1,\n",
       "                       min_samples_split=2, min_weight_fraction_leaf=0.0,\n",
       "                       n_estimators=100, n_jobs=None, oob_score=False,\n",
       "                       random_state=10, verbose=0, warm_start=False)"
      ]
     },
     "execution_count": 73,
     "metadata": {
      "tags": []
     },
     "output_type": "execute_result"
    }
   ],
   "source": [
    "# Other states\n",
    "rf_fora = RandomForestClassifier(random_state=seed, class_weight={0: 0.00001, 1: 24}) \n",
    "rf_fora.fit(X_fora, y_fora)"
   ]
  },
  {
   "cell_type": "markdown",
   "metadata": {
    "id": "2U6IXnjRKne7"
   },
   "source": [
    "### **XGBoost**\n"
   ]
  },
  {
   "cell_type": "markdown",
   "metadata": {
    "id": "fV8F8r9XFqXT"
   },
   "source": [
    "The training of the XGBoost model follows the same pattern with `random_state`. A higher weight was also used for the class with fewer examples, using the hyperparameter `scale_pos_weight`, for both models.\n",
    "\n",
    "The hyperparameter `max_depth` was chosen as 15 because the default value for this hyperparameter is 3, a low value for the amount of data we have."
   ]
  },
  {
   "cell_type": "code",
   "execution_count": null,
   "metadata": {
    "colab": {
     "base_uri": "https://localhost:8080/"
    },
    "executionInfo": {
     "elapsed": 878339,
     "status": "ok",
     "timestamp": 1620926063074,
     "user": {
      "displayName": "Lucas Buk Cardoso",
      "photoUrl": "",
      "userId": "13718893696373545505"
     },
     "user_tz": 180
    },
    "id": "OzjowRT7Kne8",
    "outputId": "b107be3c-9221-4d7f-c7c7-d6a0f8dd91ed"
   },
   "outputs": [
    {
     "data": {
      "text/plain": [
       "XGBClassifier(base_score=0.5, booster='gbtree', colsample_bylevel=1,\n",
       "              colsample_bynode=1, colsample_bytree=1, gamma=0,\n",
       "              learning_rate=0.1, max_delta_step=0, max_depth=15,\n",
       "              min_child_weight=1, missing=None, n_estimators=100, n_jobs=1,\n",
       "              nthread=None, objective='binary:logistic', random_state=10,\n",
       "              reg_alpha=0, reg_lambda=1, scale_pos_weight=10000, seed=None,\n",
       "              silent=None, subsample=1, verbosity=1)"
      ]
     },
     "execution_count": 84,
     "metadata": {
      "tags": []
     },
     "output_type": "execute_result"
    }
   ],
   "source": [
    "# SP\n",
    "xgboost_sp = xgb.XGBClassifier(max_depth=15,\n",
    "                               scale_pos_weight=10_000,\n",
    "                               random_state=seed)\n",
    "\n",
    "xgboost_sp.fit(X_SP, y_SP)"
   ]
  },
  {
   "cell_type": "code",
   "execution_count": null,
   "metadata": {
    "colab": {
     "base_uri": "https://localhost:8080/"
    },
    "executionInfo": {
     "elapsed": 78359,
     "status": "ok",
     "timestamp": 1620925166258,
     "user": {
      "displayName": "Lucas Buk Cardoso",
      "photoUrl": "",
      "userId": "13718893696373545505"
     },
     "user_tz": 180
    },
    "id": "sAGhCUJaKne8",
    "outputId": "a95c39bd-dc73-47a0-9983-e1b053cc0707"
   },
   "outputs": [
    {
     "data": {
      "text/plain": [
       "XGBClassifier(base_score=0.5, booster='gbtree', colsample_bylevel=1,\n",
       "              colsample_bynode=1, colsample_bytree=1, gamma=0,\n",
       "              learning_rate=0.1, max_delta_step=0, max_depth=15,\n",
       "              min_child_weight=1, missing=None, n_estimators=100, n_jobs=1,\n",
       "              nthread=None, objective='binary:logistic', random_state=10,\n",
       "              reg_alpha=0, reg_lambda=1, scale_pos_weight=300000, seed=None,\n",
       "              silent=None, subsample=1, verbosity=1)"
      ]
     },
     "execution_count": 81,
     "metadata": {
      "tags": []
     },
     "output_type": "execute_result"
    }
   ],
   "source": [
    "# Other states\n",
    "xgboost_fora = xgb.XGBClassifier(max_depth=15,\n",
    "                                 scale_pos_weight=300_000,\n",
    "                                 random_state=seed)\n",
    "\n",
    "xgboost_fora.fit(X_fora, y_fora)"
   ]
  },
  {
   "cell_type": "markdown",
   "metadata": {
    "id": "iRRgxiMOKne8"
   },
   "source": [
    "## **Models evaluation**"
   ]
  },
  {
   "cell_type": "markdown",
   "metadata": {
    "id": "JR6EDFhrF8sQ"
   },
   "source": [
    "After training the models, we will use the confusion matrix to verify the performances, the features importances for each model will also be obtained."
   ]
  },
  {
   "cell_type": "markdown",
   "metadata": {
    "id": "dWJgIEaFKne9"
   },
   "source": [
    "### **Preprocessing of testing data**\n"
   ]
  },
  {
   "cell_type": "markdown",
   "metadata": {
    "id": "QsR06eHeF8sz"
   },
   "source": [
    "The preprocessing of the test data was also done using a function, `test_preprocessing`, passing the test data and the encoder and normalizer, trained to the training data, as parameters.\n",
    "\n",
    "> See the complete function in the [functions section](https://cancer-project.readthedocs.io/en/latest/Cancer%20Libraries%20and%20functions.html#Models)"
   ]
  },
  {
   "cell_type": "code",
   "execution_count": null,
   "metadata": {
    "id": "n5zqvTW0Kne9"
   },
   "outputs": [],
   "source": [
    "# SP\n",
    "X_testSP_ = test_preprocessing(X_testSP, enc_SP, norm_SP)"
   ]
  },
  {
   "cell_type": "code",
   "execution_count": null,
   "metadata": {
    "id": "amQd5DYLKne-"
   },
   "outputs": [],
   "source": [
    "# Other states\n",
    "X_testFora_ = test_preprocessing(X_testFora, enc_fora, norm_fora)"
   ]
  },
  {
   "cell_type": "markdown",
   "metadata": {
    "id": "J2UkKhYAKne-"
   },
   "source": [
    "### **Random Forest**\n"
   ]
  },
  {
   "cell_type": "markdown",
   "metadata": {
    "id": "oiyGPMaLGGRh"
   },
   "source": [
    "Below we have the confusion matrices for the Random Forest models, followed by the graph with the most important features for each model."
   ]
  },
  {
   "cell_type": "code",
   "execution_count": null,
   "metadata": {
    "colab": {
     "base_uri": "https://localhost:8080/",
     "height": 279
    },
    "executionInfo": {
     "elapsed": 5029,
     "status": "ok",
     "timestamp": 1620925069039,
     "user": {
      "displayName": "Lucas Buk Cardoso",
      "photoUrl": "",
      "userId": "13718893696373545505"
     },
     "user_tz": 180
    },
    "id": "vxRiINxqKne-",
    "outputId": "326c3612-60f5-43ff-c2c9-d329f2a14501"
   },
   "outputs": [
    {
     "data": {
      "image/png": "[encoded data removed]",
      "text/plain": [
       "<Figure size 432x288 with 2 Axes>"
      ]
     },
     "metadata": {
      "needs_background": "light",
      "tags": []
     },
     "output_type": "display_data"
    }
   ],
   "source": [
    "plot_confusion_matrix(rf_sp, X_testSP_, y_testSP, cmap='Blues', normalize=\"true\", values_format='.2f')\n",
    "plt.show()"
   ]
  },
  {
   "cell_type": "markdown",
   "metadata": {
    "id": "iGvPTEvUGGRj"
   },
   "source": [
    "> The confusion matrix obtained for the Random Forest algorithm with the SP data shows a good performance of the model, because we obtained a balanced main diagonal, with 78% of accuracy."
   ]
  },
  {
   "cell_type": "code",
   "execution_count": null,
   "metadata": {
    "colab": {
     "base_uri": "https://localhost:8080/",
     "height": 592
    },
    "executionInfo": {
     "elapsed": 1036,
     "status": "ok",
     "timestamp": 1620925073523,
     "user": {
      "displayName": "Lucas Buk Cardoso",
      "photoUrl": "",
      "userId": "13718893696373545505"
     },
     "user_tz": 180
    },
    "id": "O5Xid4dpKne_",
    "outputId": "f556512a-b1c7-4785-deb8-6386bf1a97a1"
   },
   "outputs": [
    {
     "data": {
      "image/png": "[encoded data removed]",
      "text/plain": [
       "<Figure size 720x720 with 1 Axes>"
      ]
     },
     "metadata": {
      "needs_background": "light",
      "tags": []
     },
     "output_type": "display_data"
    }
   ],
   "source": [
    "plot_feat_importances(rf_sp, X_testSP)"
   ]
  },
  {
   "cell_type": "markdown",
   "metadata": {
    "id": "Y9aDHYhfGNuQ"
   },
   "source": [
    "> The four most important features in the model were `ANODIAG`, `delta_t1`, `MORFO` and `IBGE`. `delta_t1` is the difference, in days, between diagnosis and consultation."
   ]
  },
  {
   "cell_type": "code",
   "execution_count": null,
   "metadata": {
    "colab": {
     "base_uri": "https://localhost:8080/",
     "height": 279
    },
    "executionInfo": {
     "elapsed": 1701,
     "status": "ok",
     "timestamp": 1620924603585,
     "user": {
      "displayName": "Lucas Buk Cardoso",
      "photoUrl": "",
      "userId": "13718893696373545505"
     },
     "user_tz": 180
    },
    "id": "Fm3PrXj0Kne_",
    "outputId": "a725fe70-0154-4b6d-b91e-61cbfee80338"
   },
   "outputs": [
    {
     "data": {
      "image/png": "[encoded data removed]",
      "text/plain": [
       "<Figure size 432x288 with 2 Axes>"
      ]
     },
     "metadata": {
      "needs_background": "light",
      "tags": []
     },
     "output_type": "display_data"
    }
   ],
   "source": [
    "plot_confusion_matrix(rf_fora, X_testFora_, y_testFora, cmap='Blues', normalize=\"true\", values_format='.2f')\n",
    "plt.show()"
   ]
  },
  {
   "cell_type": "markdown",
   "metadata": {
    "id": "e1QRG9N5IgWS"
   },
   "source": [
    "> The confusion matrix obtained for the Random Forest algorithm with the data from another states also shows a good performance of the model, we have a more balanced main diagonal in the confusion matrix, with 80% of accuracy for both classes.\n"
   ]
  },
  {
   "cell_type": "code",
   "execution_count": null,
   "metadata": {
    "colab": {
     "base_uri": "https://localhost:8080/",
     "height": 592
    },
    "executionInfo": {
     "elapsed": 1015,
     "status": "ok",
     "timestamp": 1620924611498,
     "user": {
      "displayName": "Lucas Buk Cardoso",
      "photoUrl": "",
      "userId": "13718893696373545505"
     },
     "user_tz": 180
    },
    "id": "kPtA_NDAKne_",
    "outputId": "3707f4b9-c944-4576-a429-f12a511bb260"
   },
   "outputs": [
    {
     "data": {
      "image/png": "[encoded data removed]",
      "text/plain": [
       "<Figure size 720x720 with 1 Axes>"
      ]
     },
     "metadata": {
      "needs_background": "light",
      "tags": []
     },
     "output_type": "display_data"
    }
   ],
   "source": [
    "plot_feat_importances(rf_fora, X_testFora)"
   ]
  },
  {
   "cell_type": "markdown",
   "metadata": {
    "id": "i9LIElt3Ivzk"
   },
   "source": [
    "> The four most important features in the model were `ANODIAG`, `delta_t3`, `IBGE` and `MORFO`. `delta_t3` is the differnce between treatment and consultation."
   ]
  },
  {
   "cell_type": "markdown",
   "metadata": {
    "id": "XvhRkiEWKnfA"
   },
   "source": [
    "### **XGBoost**\n"
   ]
  },
  {
   "cell_type": "markdown",
   "metadata": {
    "id": "X9oYKaQhJPb0"
   },
   "source": [
    "Below we have the confusion matrices for the XGBoost models, followed by the graph with the most important features for each model."
   ]
  },
  {
   "cell_type": "code",
   "execution_count": null,
   "metadata": {
    "colab": {
     "base_uri": "https://localhost:8080/",
     "height": 279
    },
    "executionInfo": {
     "elapsed": 4279,
     "status": "ok",
     "timestamp": 1620926093580,
     "user": {
      "displayName": "Lucas Buk Cardoso",
      "photoUrl": "",
      "userId": "13718893696373545505"
     },
     "user_tz": 180
    },
    "id": "f_nReKZ-KnfA",
    "outputId": "9bc05a8a-32f1-4c5b-9bb5-79aa537bc707"
   },
   "outputs": [
    {
     "data": {
      "image/png": "[encoded data removed]",
      "text/plain": [
       "<Figure size 432x288 with 2 Axes>"
      ]
     },
     "metadata": {
      "needs_background": "light",
      "tags": []
     },
     "output_type": "display_data"
    }
   ],
   "source": [
    "plot_confusion_matrix(xgboost_sp, X_testSP_, y_testSP, cmap='Blues', normalize=\"true\", values_format='.2f')\n",
    "plt.show()"
   ]
  },
  {
   "cell_type": "markdown",
   "metadata": {
    "id": "zv4koUa9JPb1"
   },
   "source": [
    "> The confusion matrix obtained for the XGBoost algorithm with the SP data shows a good performance of the model, similar to the Random Forest model."
   ]
  },
  {
   "cell_type": "code",
   "execution_count": null,
   "metadata": {
    "colab": {
     "base_uri": "https://localhost:8080/",
     "height": 592
    },
    "executionInfo": {
     "elapsed": 2365,
     "status": "ok",
     "timestamp": 1620926099186,
     "user": {
      "displayName": "Lucas Buk Cardoso",
      "photoUrl": "",
      "userId": "13718893696373545505"
     },
     "user_tz": 180
    },
    "id": "EThREuGSKnfA",
    "outputId": "0b7439e0-a194-4d8c-edd9-0f89dd448d7b"
   },
   "outputs": [
    {
     "data": {
      "image/png": "[encoded data removed]",
      "text/plain": [
       "<Figure size 720x720 with 1 Axes>"
      ]
     },
     "metadata": {
      "needs_background": "light",
      "tags": []
     },
     "output_type": "display_data"
    }
   ],
   "source": [
    "plot_feat_importances(xgboost_sp, X_testSP)"
   ]
  },
  {
   "cell_type": "markdown",
   "metadata": {
    "id": "F39L3tGGJkUj"
   },
   "source": [
    "> The four most important features in the model were `HORMONIO`, `ANODIAG`, `N` and `TRATHOSP`."
   ]
  },
  {
   "cell_type": "code",
   "execution_count": null,
   "metadata": {
    "colab": {
     "base_uri": "https://localhost:8080/",
     "height": 279
    },
    "executionInfo": {
     "elapsed": 1201,
     "status": "ok",
     "timestamp": 1620925171977,
     "user": {
      "displayName": "Lucas Buk Cardoso",
      "photoUrl": "",
      "userId": "13718893696373545505"
     },
     "user_tz": 180
    },
    "id": "JrQ5u1e6KnfA",
    "outputId": "13f8be0d-61c3-448d-80e1-8740611530e5"
   },
   "outputs": [
    {
     "data": {
      "image/png": "[encoded data removed]",
      "text/plain": [
       "<Figure size 432x288 with 2 Axes>"
      ]
     },
     "metadata": {
      "needs_background": "light",
      "tags": []
     },
     "output_type": "display_data"
    }
   ],
   "source": [
    "plot_confusion_matrix(xgboost_fora, X_testFora_, y_testFora, cmap='Blues', normalize=\"true\", values_format='.2f')\n",
    "plt.show() "
   ]
  },
  {
   "cell_type": "markdown",
   "metadata": {
    "id": "PiimS9FeKCH_"
   },
   "source": [
    "> The confusion matrix obtained for the XGBoost algorithm with the data from another states also shows a good performance of the model, with 78% of accuracy. "
   ]
  },
  {
   "cell_type": "code",
   "execution_count": null,
   "metadata": {
    "colab": {
     "base_uri": "https://localhost:8080/",
     "height": 592
    },
    "executionInfo": {
     "elapsed": 1197,
     "status": "ok",
     "timestamp": 1620925176166,
     "user": {
      "displayName": "Lucas Buk Cardoso",
      "photoUrl": "",
      "userId": "13718893696373545505"
     },
     "user_tz": 180
    },
    "id": "IP0uypYXKnfB",
    "outputId": "c7d267f0-aafb-47ca-b19b-f44478f47afe"
   },
   "outputs": [
    {
     "data": {
      "image/png": "[encoded data removed]",
      "text/plain": [
       "<Figure size 720x720 with 1 Axes>"
      ]
     },
     "metadata": {
      "needs_background": "light",
      "tags": []
     },
     "output_type": "display_data"
    }
   ],
   "source": [
    "plot_feat_importances(xgboost_fora, X_testFora)"
   ]
  },
  {
   "cell_type": "markdown",
   "metadata": {
    "id": "gLzIXFe3JxRv"
   },
   "source": [
    "> The four most important features in the model were `LOCALTNM`, `ANODIAG`, `PT` and `IBGEATEN`."
   ]
  }
 ],
 "metadata": {
  "colab": {
   "authorship_tag": "ABX9TyNYcYu4XJJ7czxTJxIQFxXY",
   "collapsed_sections": [
    "rUYZlEolM5b3",
    "ufK57I-jIvL5",
    "ombZvBB4Z0XT",
    "dK3aK7YPUrJ7",
    "Sgs0DgsWVfmD",
    "QXtLVtVqaJ4R",
    "7J57oHSLKQes",
    "6XtOaE7uW66Z",
    "buuhH7YtW-1g",
    "qUbaARtuNgMu",
    "FZQlzhLsX8TT",
    "mL0RHXrohKzJ",
    "lNdcbiOxgUet",
    "Wkxqo_7c7qNA",
    "PFKZ0EQ0PJHt",
    "h3crI-qE7qNU",
    "FlRLT85q7qNj",
    "3nMd35c_7qNm",
    "xZxxgl1c7qNq",
    "nRdZQgbP7qNv",
    "XPNY0nc_7qNw",
    "5sxMeojo7qNy",
    "LUVJ5SWF7qN1",
    "wzAYYDTR7qN2",
    "uDikTsuh7qN3",
    "SEthmGFq7qN6",
    "wktYFbDgKneA",
    "ijli2WBMPSOb",
    "grcJxzdUKnea",
    "knknMJ7_Kneg",
    "5-C1GBrzKnej",
    "FV5OiHr-Kne2",
    "KkfvRh19Kne6",
    "v34HAZ5jKne6",
    "2U6IXnjRKne7",
    "iRRgxiMOKne8",
    "dWJgIEaFKne9",
    "J2UkKhYAKne-",
    "XvhRkiEWKnfA"
   ],
   "name": "Cancer Classifiers.ipynb",
   "provenance": []
  },
  "kernelspec": {
   "display_name": "Python 3",
   "name": "python3"
  },
  "language_info": {
   "name": "python"
  }
 },
 "nbformat": 4,
 "nbformat_minor": 0
}
